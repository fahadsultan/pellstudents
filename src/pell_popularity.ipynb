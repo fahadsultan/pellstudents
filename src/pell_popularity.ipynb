{
 "cells": [
  {
   "cell_type": "code",
   "execution_count": 230,
   "metadata": {},
   "outputs": [],
   "source": [
    "cipcodes = {1:\"AGRICULTURE, AGRICULTURE OPERATIONS, AND RELATED SCIENCES.\",\\\n",
    "            3: \"NATURAL RESOURCES AND CONSERVATION\", 4: \"ARCHITECTURE AND RELATED SERVICES.\",\\\n",
    "            5: \"AREA, ETHNIC, CULTURAL, AND GENDER STUDIES.\", 9: \"COMMUNICATION, JOURNALISM, AND RELATED PROGRAMS.\",\\\n",
    "            10: \"COMMUNICATIONS TECHNOLOGIES/TECHNICIANS AND SUPPORT SERVICES.\", 11: \"COMPUTER AND INFORMATION SCIENCES AND SUPPORT SERVICES.\",\\\n",
    "            12: \"PERSONAL AND CULINARY SERVICES.\",  13: \"EDUCATION.\", 14: \"ENGINEERING.\",\\\n",
    "            15: \"ENGINEERING TECHNOLOGIES/TECHNICIANS.\", 16: \"FOREIGN LANGUAGES, LITERATURES, AND LINGUISTICS.\",\\\n",
    "            19: \"FAMILY AND CONSUMER SCIENCES/HUMAN SCIENCES.\", 22: \"LEGAL PROFESSIONS AND STUDIES.\",\\\n",
    "            23: \"ENGLISH LANGUAGE AND LITERATURE/LETTERS.\", 24: \"LIBERAL ARTS AND SCIENCES, GENERAL STUDIES AND HUMANITIES.\",\\\n",
    "            25: \"LIBRARY SCIENCE.\",  26: \"BIOLOGICAL AND BIOMEDICAL SCIENCES.\", 27: \"MATHEMATICS AND STATISTICS.\",\\\n",
    "            28: \"RESERVE OFFICER TRAINING CORPS (JROTC, ROTC).\", 29: \"MILITARY TECHNOLOGIES.\",\\\n",
    "            30: \"MULTI/INTERDISCIPLINARY STUDIES.\",         31: \"PARKS, RECREATION, LEISURE, AND FITNESS STUDIES.\",\\\n",
    "            32: \"BASIC SKILLS.\", 33: \"CITIZENSHIP ACTIVITIES.\", 34: \"HEALTH-RELATED KNOWLEDGE AND SKILLS.\",\\\n",
    "            35: \"INTERPERSONAL AND SOCIAL SKILLS.\",         36: \"LEISURE AND RECREATIONAL ACTIVITIES.\",\\\n",
    "            37: \"PERSONAL AWARENESS AND SELF-IMPROVEMENT.\", 38: \"PHILOSOPHY AND RELIGIOUS STUDIES.\",\\\n",
    "            39: \"THEOLOGY AND RELIGIOUS VOCATIONS.\",        40: \"PHYSICAL SCIENCES.\",\\\n",
    "            41: \"SCIENCE TECHNOLOGIES/TECHNICIANS.\",        42: \"PSYCHOLOGY.\",\\\n",
    "            43: \"SECURITY AND PROTECTIVE SERVICES.\",        44: \"PUBLIC ADMINISTRATION AND SOCIAL SERVICE PROFESSIONS.\",\\\n",
    "            45: \"SOCIAL SCIENCES.\",                                  46: \"CONSTRUCTION TRADES.\",\\\n",
    "            47: \"MECHANIC AND REPAIR TECHNOLOGIES/TECHNICIANS.\",     48: \"PRECISION PRODUCTION.\",\\\n",
    "            49: \"TRANSPORTATION AND MATERIALS MOVING.\",              50: \"VISUAL AND PERFORMING ARTS.\",\\\n",
    "            51: \"HEALTH PROFESSIONS AND RELATED CLINICAL SCIENCES.\", 52: \"BUSINESS, MANAGEMENT, MARKETING, AND RELATED SUPPORT SERVICES.\",\\\n",
    "            53: \"HIGH SCHOOL/SECONDARY DIPLOMAS AND CERTIFICATES.\",  54: \"HISTORY\" }\n",
    "\n",
    "carnegie = { 15: \"Doctoral/Research Universities--Extensive\",\\\n",
    "            16: \"Doctoral/Research Universities--Intensive\",\\\n",
    "            21: \"Masters Colleges and Universities I\",\\\n",
    "            22: \"Masters Colleges and Universities II\",\\\n",
    "            31: \"Baccalaureate Colleges--Liberal Arts\",\\\n",
    "            32: \"Baccalaureate Colleges--General\",\\\n",
    "            33: \"Baccalaureate/Associates Colleges\",\\\n",
    "            40: \"Associates Colleges\",\\\n",
    "            51: \"Theological seminaries and other specialized faith-related institutions\",\\\n",
    "            52: \"Medical schools and medical centers\",\\\n",
    "            53: \"Other separate health profession schools\",\\\n",
    "            54: \"Schools of engineering and technology\",\\\n",
    "            55: \"Schools of business and management\",\\\n",
    "            56: \"Schools of art, music, and design\",\\\n",
    "            57: \"Schools of law\",\\\n",
    "            58: \"Teachers colleges\",\\\n",
    "            59: \"Other specialized institutions\",\\\n",
    "            60: \"Tribal colleges\",\\\n",
    "            -2: \"Not applicable, not in Carnegie universe (not accredited or nondegree-granting)\" }\n",
    "\n",
    "obereg = { 1: \"New England (CT, ME, MA, NH, RI, VT)\",\\\n",
    "            2: \"Mid East (DE, DC, MD, NJ, NY, PA)\",\\\n",
    "            3: \"Great Lakes (IL, IN, MI, OH, WI)\",\\\n",
    "            4: \"Plains (IA, KS, MN, MO, NE, ND, SD)\",\\\n",
    "            5: \"Southeast (AL, AR, FL, GA, KY, LA, MS, NC, SC, TN, VA, WV)\",\\\n",
    "            6: \"Southwest (AZ, NM, OK, TX)\",\\\n",
    "            7: \"Rocky Mountains (CO, ID, MT, UT, WY)\",\\\n",
    "            8: \"Far West (AK, CA, HI, NV, OR, WA)\",\\\n",
    "            9: \"Outlying Areas (AS, FM, GU, MH, MP, PR, PW, VI)\" }"
   ]
  },
  {
   "cell_type": "code",
   "execution_count": 231,
   "metadata": {},
   "outputs": [],
   "source": [
    "import pandas as pd \n",
    "\n",
    "outcomes    = pd.read_csv('../data/Most-Recent-Cohorts-Field-of-Study.csv') # outcomes\n",
    "\n",
    "insts       = pd.read_csv('../data/hd2020.csv', encoding='cp1252')"
   ]
  },
  {
   "cell_type": "markdown",
   "metadata": {},
   "source": [
    "# Pell > No-Pell"
   ]
  },
  {
   "cell_type": "code",
   "execution_count": 7,
   "metadata": {},
   "outputs": [],
   "source": [
    "unitids = list(insts.loc[insts['INSTSIZE'] >= 3, 'UNITID'].values)\n",
    "\n",
    "outcomes = outcomes[outcomes['UNITID'].isin(unitids)]\n",
    "\n",
    "\n",
    "outcomes['CS']                      = outcomes['CIPCODE'].astype(str).apply(lambda x: (len(x)==4) and (x.startswith('11')))\n",
    "\n",
    "outcomes                            = outcomes[outcomes['EARN_COUNT_WNE_1YR']      != 'PS']\n",
    "outcomes                            = outcomes[outcomes['EARN_COUNT_PELL_WNE_1YR'] != 'PS']\n",
    "\n",
    "outcomes['EARN_COUNT_WNE_1YR']      = outcomes['EARN_COUNT_WNE_1YR'].astype(int)\n",
    "outcomes['EARN_COUNT_PELL_WNE_1YR'] = outcomes['EARN_COUNT_PELL_WNE_1YR'].astype(int)\n",
    "\n",
    "outcomes = outcomes.rename(columns={'EARN_COUNT_WNE_1YR': 'total_count', \\\n",
    "                                    'EARN_COUNT_PELL_WNE_1YR': 'pell_count'})\n",
    "\n",
    "outcomes['nopell_count'] = outcomes['total_count'] - outcomes['pell_count']\n",
    "\n",
    "# outcomes[['INSTNM', 'total_count', 'pell_count', 'nopell_count']]\n",
    "\n",
    "a = outcomes[outcomes['CIPCODE'] == 1107]\n",
    "\n",
    "# a[['pell_count', 'nopell_count']]\n",
    "\n",
    "outcomes['weird'] = outcomes['pell_count'] > outcomes['nopell_count']\n",
    "\n",
    "outcomes[['weird', 'CIPCODE']]\n",
    "\n",
    "nopell = outcomes[['UNITID', 'INSTNM', 'CS', 'nopell_count']]\n",
    "nopell['pell'] = False\n",
    "# nopell.rename(columns={'EARN_COUNT_NOPELL_WNE_4YR':'Count'}, inplace=True)\n",
    "# nopell = nopell[nopell['Count'] != 'PS']\n",
    "# nopell['Count']  = nopell['Count'].astype(float)\n",
    "\n",
    "\n",
    "\n",
    "pell = outcomes[['UNITID', 'INSTNM', 'CS', 'pell_count']]\n",
    "pell['pell'] = True\n",
    "# pell.rename(columns={'EARN_COUNT_PELL_WNE_4YR':'Count'}, inplace=True)\n",
    "# pell = pell[pell['Count'] != 'PS']\n",
    "# pell['Count']  = pell['Count'].astype(float)\n",
    "\n",
    "pell_stats = pell.groupby(['UNITID', 'INSTNM', 'CS', 'pell'])['pell_count'].sum().reset_index()\n",
    "nopell_stats = nopell.groupby(['UNITID', 'INSTNM', 'CS', 'pell'])['nopell_count'].sum().reset_index()\n",
    "\n",
    "merged = pd.merge(pell_stats, nopell_stats, on=['UNITID', 'CS'])\n",
    "merged#['Count_x'] >= merged['Count_y']"
   ]
  },
  {
   "cell_type": "markdown",
   "metadata": {},
   "source": [
    "# CS Completions (IPEDS)"
   ]
  },
  {
   "cell_type": "code",
   "execution_count": 232,
   "metadata": {},
   "outputs": [
    {
     "name": "stderr",
     "output_type": "stream",
     "text": [
      "100%|██████████| 23/23 [00:24<00:00,  1.07s/it]\n"
     ]
    }
   ],
   "source": [
    "import pandas as pd\n",
    "from matplotlib import pyplot as plt\n",
    "from glob import glob\n",
    "from tqdm import tqdm\n",
    "import numpy as np\n",
    "import math\n",
    "%matplotlib inline\n",
    "\n",
    "# 2004, 2008, 2011\n",
    "\n",
    "import warnings\n",
    "warnings.filterwarnings(\"ignore\")\n",
    "\n",
    "unis    = pd.read_csv('../data/hd2020.csv', encoding='cp1252')\n",
    "fnames  = glob('../data/IPEDS/*_A/*_rv.csv')+glob('../data/IPEDS/*_a.csv')\n",
    "dfs     = []\n",
    "\n",
    "for fname in tqdm(fnames): \n",
    "\n",
    "    year = int(fname.split('/')[-1].split('_')[0][1:])\n",
    "    if year <= 2001:\n",
    "        continue \n",
    "\n",
    "    df          = pd.read_csv(fname, index_col=0)\n",
    "    df          = df.rename(columns={col: col.upper().strip() for col in df.columns})\n",
    "    df          = df[df['AWLEVEL'].apply(lambda x: x in [5, 7, 9, 17, 18, 19])]\n",
    "    df['cs']    = df['CIPCODE'].apply(lambda x: (x>=11) & (x<12))\n",
    "    df['year']  = year\n",
    "    df['ugd']   = df['AWLEVEL'] == 5\n",
    "    df['mst']   = df['AWLEVEL'] == 7\n",
    "    df['phd']   = df['AWLEVEL'] >  7\n",
    "\n",
    "    dfs.append(df)\n",
    "\n",
    "all_dfs = pd.concat(dfs)"
   ]
  },
  {
   "cell_type": "code",
   "execution_count": 233,
   "metadata": {},
   "outputs": [
    {
     "data": {
      "text/plain": [
       "[<matplotlib.lines.Line2D at 0x7f9c106e4430>]"
      ]
     },
     "execution_count": 233,
     "metadata": {},
     "output_type": "execute_result"
    },
    {
     "data": {
      "image/png": "[encoded data removed]",
      "text/plain": [
       "<Figure size 432x288 with 1 Axes>"
      ]
     },
     "metadata": {
      "needs_background": "light"
     },
     "output_type": "display_data"
    }
   ],
   "source": [
    "all_dfs = all_dfs[all_dfs['ugd']]\n",
    "\n",
    "cs = all_dfs[all_dfs['cs']]['CTOTALT'].sum()\n",
    "all = all_dfs['CTOTALT'].sum()\n",
    "\n",
    "merged = pd.merge(all_dfs, unis, left_index=True, right_on='UNITID')\n",
    "\n",
    "cs_pct_ipeds = merged.groupby(['year']).apply(lambda x: 100*x[x['cs']]['CTOTALT'].sum()/x['CTOTALT'].sum())\n",
    "\n",
    "plt.plot(cs_pct_ipeds)"
   ]
  },
  {
   "cell_type": "markdown",
   "metadata": {},
   "source": [
    "### Institutions that have CS% > Aid%"
   ]
  },
  {
   "cell_type": "code",
   "execution_count": 334,
   "metadata": {},
   "outputs": [],
   "source": [
    "ipeds = all_dfs.reset_index().rename(columns={'index': 'UNITID'})\n",
    "ipeds_cs_stats = ipeds.groupby(['UNITID', 'year']).apply(lambda x: x[x['cs']]['CTOTALT'].sum()/x['CTOTALT'].sum())\n",
    "ipeds_cs_stats = ipeds_cs_stats.dropna().reset_index().rename(columns={0: 'cs_share_comp'})\n",
    "\n",
    "sc_cs_stats = all_sc.groupby(['UNITID', 'year']).apply(lambda x: x[x['cs']]['IPEDSCOUNT1'].sum()/x['IPEDSCOUNT1'].sum())\n",
    "sc_cs_stats = sc_cs_stats.reset_index().rename(columns={0: 'cs_share_aid'})\n",
    "sc_cs_stats['year2'] = sc_cs_stats['year'].apply(lambda x: int('20'+str(x)[:2]))\n",
    "\n",
    "merged = pd.merge(ipeds_cs_stats, sc_cs_stats, left_on=['UNITID', 'year'], right_on=['UNITID', 'year2'])\n",
    "\n",
    "merged['accessible'] = merged['cs_share_comp'] <= merged['cs_share_aid']"
   ]
  },
  {
   "cell_type": "code",
   "execution_count": 310,
   "metadata": {},
   "outputs": [
    {
     "data": {
      "image/png": "[encoded data removed]",
      "text/plain": [
       "<Figure size 432x288 with 1 Axes>"
      ]
     },
     "metadata": {
      "needs_background": "light"
     },
     "output_type": "display_data"
    }
   ],
   "source": [
    "a=np.random.random(100)*0.5 #a uniform distribution\n",
    "b=1-np.random.normal(size=100)*0.1 #a normal distribution \n",
    "bins=np.histogram(np.hstack((merged['cs_share_comp'].dropna(),merged['cs_share_aid'].dropna())), bins=20)[1] #get the bin edges\n",
    "\n",
    "merged['cs_share_comp'].hist(bins=bins, alpha=0.5)\n",
    "merged['cs_share_aid'].hist(bins=bins, alpha=0.5)\n",
    "\n",
    "plt.yscale('log')"
   ]
  },
  {
   "cell_type": "code",
   "execution_count": 335,
   "metadata": {},
   "outputs": [],
   "source": [
    "merged2 = pd.merge(merged, insts, left_on='UNITID', right_on='UNITID')"
   ]
  },
  {
   "cell_type": "code",
   "execution_count": 336,
   "metadata": {},
   "outputs": [
    {
     "data": {
      "text/html": [
       "<div>\n",
       "<style scoped>\n",
       "    .dataframe tbody tr th:only-of-type {\n",
       "        vertical-align: middle;\n",
       "    }\n",
       "\n",
       "    .dataframe tbody tr th {\n",
       "        vertical-align: top;\n",
       "    }\n",
       "\n",
       "    .dataframe thead th {\n",
       "        text-align: right;\n",
       "    }\n",
       "</style>\n",
       "<table border=\"1\" class=\"dataframe\">\n",
       "  <thead>\n",
       "    <tr style=\"text-align: right;\">\n",
       "      <th></th>\n",
       "      <th>INSTSIZE</th>\n",
       "      <th>INSTSIZE</th>\n",
       "    </tr>\n",
       "  </thead>\n",
       "  <tbody>\n",
       "    <tr>\n",
       "      <th>2</th>\n",
       "      <td>0.39</td>\n",
       "      <td>0.51</td>\n",
       "    </tr>\n",
       "    <tr>\n",
       "      <th>1</th>\n",
       "      <td>0.30</td>\n",
       "      <td>0.25</td>\n",
       "    </tr>\n",
       "    <tr>\n",
       "      <th>3</th>\n",
       "      <td>0.11</td>\n",
       "      <td>0.12</td>\n",
       "    </tr>\n",
       "    <tr>\n",
       "      <th>4</th>\n",
       "      <td>0.09</td>\n",
       "      <td>0.05</td>\n",
       "    </tr>\n",
       "    <tr>\n",
       "      <th>5</th>\n",
       "      <td>0.08</td>\n",
       "      <td>0.03</td>\n",
       "    </tr>\n",
       "    <tr>\n",
       "      <th>-2</th>\n",
       "      <td>0.02</td>\n",
       "      <td>0.02</td>\n",
       "    </tr>\n",
       "    <tr>\n",
       "      <th>-1</th>\n",
       "      <td>0.01</td>\n",
       "      <td>0.01</td>\n",
       "    </tr>\n",
       "  </tbody>\n",
       "</table>\n",
       "</div>"
      ],
      "text/plain": [
       "    INSTSIZE  INSTSIZE\n",
       " 2      0.39      0.51\n",
       " 1      0.30      0.25\n",
       " 3      0.11      0.12\n",
       " 4      0.09      0.05\n",
       " 5      0.08      0.03\n",
       "-2      0.02      0.02\n",
       "-1      0.01      0.01"
      ]
     },
     "execution_count": 336,
     "metadata": {},
     "output_type": "execute_result"
    }
   ],
   "source": [
    "pd.concat([merged2[merged2['accessible']]['INSTSIZE'].value_counts(normalize=True).round(2), merged2[~merged2['accessible']]['INSTSIZE'].value_counts(normalize=True).round(2)], axis=1)"
   ]
  },
  {
   "cell_type": "code",
   "execution_count": 337,
   "metadata": {},
   "outputs": [
    {
     "data": {
      "text/html": [
       "<div>\n",
       "<style scoped>\n",
       "    .dataframe tbody tr th:only-of-type {\n",
       "        vertical-align: middle;\n",
       "    }\n",
       "\n",
       "    .dataframe tbody tr th {\n",
       "        vertical-align: top;\n",
       "    }\n",
       "\n",
       "    .dataframe thead th {\n",
       "        text-align: right;\n",
       "    }\n",
       "</style>\n",
       "<table border=\"1\" class=\"dataframe\">\n",
       "  <thead>\n",
       "    <tr style=\"text-align: right;\">\n",
       "      <th></th>\n",
       "      <th>INSTCAT</th>\n",
       "      <th>INSTCAT</th>\n",
       "    </tr>\n",
       "  </thead>\n",
       "  <tbody>\n",
       "    <tr>\n",
       "      <th>-2</th>\n",
       "      <td>0.02</td>\n",
       "      <td>0.03</td>\n",
       "    </tr>\n",
       "    <tr>\n",
       "      <th>-1</th>\n",
       "      <td>0.01</td>\n",
       "      <td>0.01</td>\n",
       "    </tr>\n",
       "    <tr>\n",
       "      <th>1</th>\n",
       "      <td>0.00</td>\n",
       "      <td>NaN</td>\n",
       "    </tr>\n",
       "    <tr>\n",
       "      <th>2</th>\n",
       "      <td>0.87</td>\n",
       "      <td>0.79</td>\n",
       "    </tr>\n",
       "    <tr>\n",
       "      <th>3</th>\n",
       "      <td>0.11</td>\n",
       "      <td>0.17</td>\n",
       "    </tr>\n",
       "    <tr>\n",
       "      <th>4</th>\n",
       "      <td>0.00</td>\n",
       "      <td>0.01</td>\n",
       "    </tr>\n",
       "    <tr>\n",
       "      <th>6</th>\n",
       "      <td>0.00</td>\n",
       "      <td>NaN</td>\n",
       "    </tr>\n",
       "  </tbody>\n",
       "</table>\n",
       "</div>"
      ],
      "text/plain": [
       "    INSTCAT  INSTCAT\n",
       "-2     0.02     0.03\n",
       "-1     0.01     0.01\n",
       " 1     0.00      NaN\n",
       " 2     0.87     0.79\n",
       " 3     0.11     0.17\n",
       " 4     0.00     0.01\n",
       " 6     0.00      NaN"
      ]
     },
     "execution_count": 337,
     "metadata": {},
     "output_type": "execute_result"
    }
   ],
   "source": [
    "pd.concat([merged2[merged2['accessible']]['INSTCAT'].value_counts(normalize=True).round(2), \\\n",
    "           merged2[~merged2['accessible']]['INSTCAT'].value_counts(normalize=True).round(2)], axis=1).sort_index()"
   ]
  },
  {
   "cell_type": "code",
   "execution_count": 356,
   "metadata": {},
   "outputs": [
    {
     "data": {
      "text/html": [
       "<div>\n",
       "<style scoped>\n",
       "    .dataframe tbody tr th:only-of-type {\n",
       "        vertical-align: middle;\n",
       "    }\n",
       "\n",
       "    .dataframe tbody tr th {\n",
       "        vertical-align: top;\n",
       "    }\n",
       "\n",
       "    .dataframe thead th {\n",
       "        text-align: right;\n",
       "    }\n",
       "</style>\n",
       "<table border=\"1\" class=\"dataframe\">\n",
       "  <thead>\n",
       "    <tr style=\"text-align: right;\">\n",
       "      <th>accessible</th>\n",
       "      <th>False</th>\n",
       "      <th>True</th>\n",
       "      <th>diff</th>\n",
       "    </tr>\n",
       "    <tr>\n",
       "      <th>CARNEGIE</th>\n",
       "      <th></th>\n",
       "      <th></th>\n",
       "      <th></th>\n",
       "    </tr>\n",
       "  </thead>\n",
       "  <tbody>\n",
       "    <tr>\n",
       "      <th>32</th>\n",
       "      <td>18.8</td>\n",
       "      <td>12.2</td>\n",
       "      <td>6.6</td>\n",
       "    </tr>\n",
       "    <tr>\n",
       "      <th>51</th>\n",
       "      <td>0.9</td>\n",
       "      <td>6.0</td>\n",
       "      <td>5.1</td>\n",
       "    </tr>\n",
       "    <tr>\n",
       "      <th>40</th>\n",
       "      <td>13.4</td>\n",
       "      <td>8.5</td>\n",
       "      <td>4.9</td>\n",
       "    </tr>\n",
       "    <tr>\n",
       "      <th>15</th>\n",
       "      <td>2.3</td>\n",
       "      <td>7.0</td>\n",
       "      <td>4.7</td>\n",
       "    </tr>\n",
       "    <tr>\n",
       "      <th>22</th>\n",
       "      <td>7.9</td>\n",
       "      <td>4.2</td>\n",
       "      <td>3.7</td>\n",
       "    </tr>\n",
       "    <tr>\n",
       "      <th>21</th>\n",
       "      <td>23.5</td>\n",
       "      <td>20.6</td>\n",
       "      <td>2.9</td>\n",
       "    </tr>\n",
       "    <tr>\n",
       "      <th>56</th>\n",
       "      <td>0.3</td>\n",
       "      <td>2.6</td>\n",
       "      <td>2.3</td>\n",
       "    </tr>\n",
       "    <tr>\n",
       "      <th>31</th>\n",
       "      <td>7.6</td>\n",
       "      <td>9.7</td>\n",
       "      <td>2.1</td>\n",
       "    </tr>\n",
       "    <tr>\n",
       "      <th>16</th>\n",
       "      <td>2.8</td>\n",
       "      <td>4.6</td>\n",
       "      <td>1.8</td>\n",
       "    </tr>\n",
       "    <tr>\n",
       "      <th>53</th>\n",
       "      <td>0.6</td>\n",
       "      <td>1.9</td>\n",
       "      <td>1.3</td>\n",
       "    </tr>\n",
       "    <tr>\n",
       "      <th>54</th>\n",
       "      <td>1.6</td>\n",
       "      <td>0.8</td>\n",
       "      <td>0.8</td>\n",
       "    </tr>\n",
       "    <tr>\n",
       "      <th>59</th>\n",
       "      <td>0.5</td>\n",
       "      <td>1.2</td>\n",
       "      <td>0.7</td>\n",
       "    </tr>\n",
       "    <tr>\n",
       "      <th>60</th>\n",
       "      <td>1.2</td>\n",
       "      <td>0.5</td>\n",
       "      <td>0.7</td>\n",
       "    </tr>\n",
       "    <tr>\n",
       "      <th>33</th>\n",
       "      <td>1.2</td>\n",
       "      <td>1.8</td>\n",
       "      <td>0.6</td>\n",
       "    </tr>\n",
       "    <tr>\n",
       "      <th>-2</th>\n",
       "      <td>15.9</td>\n",
       "      <td>16.5</td>\n",
       "      <td>0.6</td>\n",
       "    </tr>\n",
       "    <tr>\n",
       "      <th>55</th>\n",
       "      <td>1.3</td>\n",
       "      <td>1.0</td>\n",
       "      <td>0.3</td>\n",
       "    </tr>\n",
       "    <tr>\n",
       "      <th>58</th>\n",
       "      <td>0.3</td>\n",
       "      <td>0.2</td>\n",
       "      <td>0.1</td>\n",
       "    </tr>\n",
       "    <tr>\n",
       "      <th>52</th>\n",
       "      <td>NaN</td>\n",
       "      <td>0.9</td>\n",
       "      <td>NaN</td>\n",
       "    </tr>\n",
       "  </tbody>\n",
       "</table>\n",
       "</div>"
      ],
      "text/plain": [
       "accessible  False  True  diff\n",
       "CARNEGIE                     \n",
       " 32          18.8  12.2   6.6\n",
       " 51           0.9   6.0   5.1\n",
       " 40          13.4   8.5   4.9\n",
       " 15           2.3   7.0   4.7\n",
       " 22           7.9   4.2   3.7\n",
       " 21          23.5  20.6   2.9\n",
       " 56           0.3   2.6   2.3\n",
       " 31           7.6   9.7   2.1\n",
       " 16           2.8   4.6   1.8\n",
       " 53           0.6   1.9   1.3\n",
       " 54           1.6   0.8   0.8\n",
       " 59           0.5   1.2   0.7\n",
       " 60           1.2   0.5   0.7\n",
       " 33           1.2   1.8   0.6\n",
       "-2           15.9  16.5   0.6\n",
       " 55           1.3   1.0   0.3\n",
       " 58           0.3   0.2   0.1\n",
       " 52           NaN   0.9   NaN"
      ]
     },
     "execution_count": 356,
     "metadata": {},
     "output_type": "execute_result"
    }
   ],
   "source": [
    "a = (merged2.groupby('accessible')['CARNEGIE'].value_counts(normalize=True)*100).round(1).unstack().transpose()\n",
    "a['diff'] = (a[True] - a[False]).abs()\n",
    "a.sort_values('diff', ascending=False)"
   ]
  },
  {
   "cell_type": "markdown",
   "metadata": {},
   "source": [
    "## Community Colleges"
   ]
  },
  {
   "cell_type": "code",
   "execution_count": 403,
   "metadata": {},
   "outputs": [
    {
     "data": {
      "text/plain": [
       " 1    0.57\n",
       " 2    0.24\n",
       " 3    0.07\n",
       " 4    0.05\n",
       " 5    0.03\n",
       "-2    0.03\n",
       "-1    0.01\n",
       "Name: INSTSIZE, dtype: float64"
      ]
     },
     "execution_count": 403,
     "metadata": {},
     "output_type": "execute_result"
    }
   ],
   "source": [
    "insts['INSTSIZE'].value_counts(normalize=True).round(2) "
   ]
  },
  {
   "cell_type": "code",
   "execution_count": 402,
   "metadata": {},
   "outputs": [
    {
     "data": {
      "text/html": [
       "<div>\n",
       "<style scoped>\n",
       "    .dataframe tbody tr th:only-of-type {\n",
       "        vertical-align: middle;\n",
       "    }\n",
       "\n",
       "    .dataframe tbody tr th {\n",
       "        vertical-align: top;\n",
       "    }\n",
       "\n",
       "    .dataframe thead th {\n",
       "        text-align: right;\n",
       "    }\n",
       "</style>\n",
       "<table border=\"1\" class=\"dataframe\">\n",
       "  <thead>\n",
       "    <tr style=\"text-align: right;\">\n",
       "      <th></th>\n",
       "      <th>INSTNM</th>\n",
       "      <th>CARNEGIE</th>\n",
       "    </tr>\n",
       "  </thead>\n",
       "  <tbody>\n",
       "    <tr>\n",
       "      <th>3096</th>\n",
       "      <td>Furman University</td>\n",
       "      <td>31</td>\n",
       "    </tr>\n",
       "  </tbody>\n",
       "</table>\n",
       "</div>"
      ],
      "text/plain": [
       "                 INSTNM  CARNEGIE\n",
       "3096  Furman University        31"
      ]
     },
     "execution_count": 402,
     "metadata": {},
     "output_type": "execute_result"
    }
   ],
   "source": [
    "insts[insts['INSTNM'].apply(lambda x: 'furman' in x.lower())][['INSTNM', 'CARNEGIE']]"
   ]
  },
  {
   "cell_type": "code",
   "execution_count": 398,
   "metadata": {},
   "outputs": [
    {
     "data": {
      "text/plain": [
       "-2     66.942149\n",
       " 40    31.680441\n",
       " 54     0.550964\n",
       " 60     0.550964\n",
       " 21     0.275482\n",
       "Name: CARNEGIE, dtype: float64"
      ]
     },
     "execution_count": 398,
     "metadata": {},
     "output_type": "execute_result"
    }
   ],
   "source": [
    "# insts[insts['CARNEGIE']==40]['SECTOR'].value_counts(normalize=True)*100\n",
    "insts[insts['technical']]['CARNEGIE'].value_counts(normalize=True)*100"
   ]
  },
  {
   "cell_type": "code",
   "execution_count": 381,
   "metadata": {},
   "outputs": [
    {
     "data": {
      "text/plain": [
       "-2     52.0\n",
       " 40    18.2\n",
       " 21     7.4\n",
       " 32     4.5\n",
       " 51     3.4\n",
       " 31     3.4\n",
       " 15     2.4\n",
       " 16     1.6\n",
       " 22     1.6\n",
       " 53     1.1\n",
       " 56     0.9\n",
       " 52     0.7\n",
       " 59     0.6\n",
       " 33     0.6\n",
       " 60     0.5\n",
       " 55     0.4\n",
       " 54     0.3\n",
       " 57     0.3\n",
       " 58     0.1\n",
       "Name: CARNEGIE, dtype: float64"
      ]
     },
     "execution_count": 381,
     "metadata": {},
     "output_type": "execute_result"
    }
   ],
   "source": [
    "(insts['CARNEGIE'].value_counts(normalize=True)*100).round(1)"
   ]
  },
  {
   "cell_type": "code",
   "execution_count": 376,
   "metadata": {},
   "outputs": [
    {
     "data": {
      "text/html": [
       "<div>\n",
       "<style scoped>\n",
       "    .dataframe tbody tr th:only-of-type {\n",
       "        vertical-align: middle;\n",
       "    }\n",
       "\n",
       "    .dataframe tbody tr th {\n",
       "        vertical-align: top;\n",
       "    }\n",
       "\n",
       "    .dataframe thead th {\n",
       "        text-align: right;\n",
       "    }\n",
       "</style>\n",
       "<table border=\"1\" class=\"dataframe\">\n",
       "  <thead>\n",
       "    <tr style=\"text-align: right;\">\n",
       "      <th></th>\n",
       "      <th>UNITID</th>\n",
       "      <th>INSTNM</th>\n",
       "      <th>IALIAS</th>\n",
       "      <th>ADDR</th>\n",
       "      <th>CITY</th>\n",
       "      <th>STABBR</th>\n",
       "      <th>ZIP</th>\n",
       "      <th>FIPS</th>\n",
       "      <th>OBEREG</th>\n",
       "      <th>CHFNM</th>\n",
       "      <th>...</th>\n",
       "      <th>NECTA</th>\n",
       "      <th>COUNTYCD</th>\n",
       "      <th>COUNTYNM</th>\n",
       "      <th>CNGDSTCD</th>\n",
       "      <th>LONGITUD</th>\n",
       "      <th>LATITUDE</th>\n",
       "      <th>DFRCGID</th>\n",
       "      <th>DFRCUSCG</th>\n",
       "      <th>community</th>\n",
       "      <th>technical</th>\n",
       "    </tr>\n",
       "  </thead>\n",
       "  <tbody>\n",
       "    <tr>\n",
       "      <th>0</th>\n",
       "      <td>100654</td>\n",
       "      <td>Alabama A &amp; M University</td>\n",
       "      <td>AAMU</td>\n",
       "      <td>4900 Meridian Street</td>\n",
       "      <td>Normal</td>\n",
       "      <td>AL</td>\n",
       "      <td>35762</td>\n",
       "      <td>1</td>\n",
       "      <td>5</td>\n",
       "      <td>Dr. Andrew Hugine, Jr.</td>\n",
       "      <td>...</td>\n",
       "      <td>-2</td>\n",
       "      <td>1089</td>\n",
       "      <td>Madison County</td>\n",
       "      <td>105</td>\n",
       "      <td>-86.568502</td>\n",
       "      <td>34.783368</td>\n",
       "      <td>109</td>\n",
       "      <td>1</td>\n",
       "      <td>False</td>\n",
       "      <td>False</td>\n",
       "    </tr>\n",
       "    <tr>\n",
       "      <th>1</th>\n",
       "      <td>100663</td>\n",
       "      <td>University of Alabama at Birmingham</td>\n",
       "      <td></td>\n",
       "      <td>Administration Bldg Suite 1070</td>\n",
       "      <td>Birmingham</td>\n",
       "      <td>AL</td>\n",
       "      <td>35294-0110</td>\n",
       "      <td>1</td>\n",
       "      <td>5</td>\n",
       "      <td>Ray L. Watts</td>\n",
       "      <td>...</td>\n",
       "      <td>-2</td>\n",
       "      <td>1073</td>\n",
       "      <td>Jefferson County</td>\n",
       "      <td>107</td>\n",
       "      <td>-86.799345</td>\n",
       "      <td>33.505697</td>\n",
       "      <td>95</td>\n",
       "      <td>1</td>\n",
       "      <td>False</td>\n",
       "      <td>False</td>\n",
       "    </tr>\n",
       "    <tr>\n",
       "      <th>2</th>\n",
       "      <td>100690</td>\n",
       "      <td>Amridge University</td>\n",
       "      <td>Southern Christian University  Regions University</td>\n",
       "      <td>1200 Taylor Rd</td>\n",
       "      <td>Montgomery</td>\n",
       "      <td>AL</td>\n",
       "      <td>36117-3553</td>\n",
       "      <td>1</td>\n",
       "      <td>5</td>\n",
       "      <td>Michael C.Turner</td>\n",
       "      <td>...</td>\n",
       "      <td>-2</td>\n",
       "      <td>1101</td>\n",
       "      <td>Montgomery County</td>\n",
       "      <td>102</td>\n",
       "      <td>-86.174010</td>\n",
       "      <td>32.362609</td>\n",
       "      <td>126</td>\n",
       "      <td>2</td>\n",
       "      <td>False</td>\n",
       "      <td>False</td>\n",
       "    </tr>\n",
       "    <tr>\n",
       "      <th>3</th>\n",
       "      <td>100706</td>\n",
       "      <td>University of Alabama in Huntsville</td>\n",
       "      <td>UAH  University of Alabama Huntsville</td>\n",
       "      <td>301 Sparkman Dr</td>\n",
       "      <td>Huntsville</td>\n",
       "      <td>AL</td>\n",
       "      <td>35899</td>\n",
       "      <td>1</td>\n",
       "      <td>5</td>\n",
       "      <td>Darren Dawson</td>\n",
       "      <td>...</td>\n",
       "      <td>-2</td>\n",
       "      <td>1089</td>\n",
       "      <td>Madison County</td>\n",
       "      <td>105</td>\n",
       "      <td>-86.640449</td>\n",
       "      <td>34.724557</td>\n",
       "      <td>99</td>\n",
       "      <td>2</td>\n",
       "      <td>False</td>\n",
       "      <td>False</td>\n",
       "    </tr>\n",
       "    <tr>\n",
       "      <th>4</th>\n",
       "      <td>100724</td>\n",
       "      <td>Alabama State University</td>\n",
       "      <td></td>\n",
       "      <td>915 S Jackson Street</td>\n",
       "      <td>Montgomery</td>\n",
       "      <td>AL</td>\n",
       "      <td>36104-0271</td>\n",
       "      <td>1</td>\n",
       "      <td>5</td>\n",
       "      <td>Quinton T. Ross</td>\n",
       "      <td>...</td>\n",
       "      <td>-2</td>\n",
       "      <td>1101</td>\n",
       "      <td>Montgomery County</td>\n",
       "      <td>107</td>\n",
       "      <td>-86.295677</td>\n",
       "      <td>32.364317</td>\n",
       "      <td>118</td>\n",
       "      <td>1</td>\n",
       "      <td>False</td>\n",
       "      <td>False</td>\n",
       "    </tr>\n",
       "  </tbody>\n",
       "</table>\n",
       "<p>5 rows × 75 columns</p>\n",
       "</div>"
      ],
      "text/plain": [
       "   UNITID                               INSTNM  \\\n",
       "0  100654             Alabama A & M University   \n",
       "1  100663  University of Alabama at Birmingham   \n",
       "2  100690                   Amridge University   \n",
       "3  100706  University of Alabama in Huntsville   \n",
       "4  100724             Alabama State University   \n",
       "\n",
       "                                              IALIAS  \\\n",
       "0                                               AAMU   \n",
       "1                                                      \n",
       "2  Southern Christian University  Regions University   \n",
       "3              UAH  University of Alabama Huntsville   \n",
       "4                                                      \n",
       "\n",
       "                             ADDR        CITY STABBR         ZIP  FIPS  \\\n",
       "0            4900 Meridian Street      Normal     AL       35762     1   \n",
       "1  Administration Bldg Suite 1070  Birmingham     AL  35294-0110     1   \n",
       "2                  1200 Taylor Rd  Montgomery     AL  36117-3553     1   \n",
       "3                 301 Sparkman Dr  Huntsville     AL       35899     1   \n",
       "4            915 S Jackson Street  Montgomery     AL  36104-0271     1   \n",
       "\n",
       "   OBEREG                   CHFNM  ... NECTA COUNTYCD           COUNTYNM  \\\n",
       "0       5  Dr. Andrew Hugine, Jr.  ...    -2     1089     Madison County   \n",
       "1       5            Ray L. Watts  ...    -2     1073   Jefferson County   \n",
       "2       5        Michael C.Turner  ...    -2     1101  Montgomery County   \n",
       "3       5           Darren Dawson  ...    -2     1089     Madison County   \n",
       "4       5         Quinton T. Ross  ...    -2     1101  Montgomery County   \n",
       "\n",
       "  CNGDSTCD   LONGITUD   LATITUDE DFRCGID DFRCUSCG community technical  \n",
       "0      105 -86.568502  34.783368     109        1     False     False  \n",
       "1      107 -86.799345  33.505697      95        1     False     False  \n",
       "2      102 -86.174010  32.362609     126        2     False     False  \n",
       "3      105 -86.640449  34.724557      99        2     False     False  \n",
       "4      107 -86.295677  32.364317     118        1     False     False  \n",
       "\n",
       "[5 rows x 75 columns]"
      ]
     },
     "execution_count": 376,
     "metadata": {},
     "output_type": "execute_result"
    }
   ],
   "source": [
    "insts.head()"
   ]
  },
  {
   "cell_type": "code",
   "execution_count": 360,
   "metadata": {},
   "outputs": [
    {
     "data": {
      "text/plain": [
       " 40    0.88\n",
       "-2     0.11\n",
       " 60    0.02\n",
       "Name: CARNEGIE, dtype: float64"
      ]
     },
     "execution_count": 360,
     "metadata": {},
     "output_type": "execute_result"
    }
   ],
   "source": [
    "insts['community'] = insts['INSTNM'].apply(lambda x: 'community' in x.lower())\n",
    "insts[insts['community']]['CARNEGIE'].value_counts(normalize=True).round(2)"
   ]
  },
  {
   "cell_type": "code",
   "execution_count": 375,
   "metadata": {},
   "outputs": [
    {
     "data": {
      "text/plain": [
       "-2     0.67\n",
       " 40    0.32\n",
       " 54    0.01\n",
       " 60    0.01\n",
       " 21    0.00\n",
       "Name: CARNEGIE, dtype: float64"
      ]
     },
     "execution_count": 375,
     "metadata": {},
     "output_type": "execute_result"
    }
   ],
   "source": [
    "insts['technical'] = insts['INSTNM'].apply(lambda x: 'technical' in x.lower())\n",
    "insts[insts['technical']]['CARNEGIE'].value_counts(normalize=True).round(2)"
   ]
  },
  {
   "cell_type": "code",
   "execution_count": null,
   "metadata": {},
   "outputs": [],
   "source": [
    "insts['technical'] = insts['INSTNM'].apply(lambda x: 'technical' in x.lower())\n",
    "insts[insts['technical']]['CARNEGIE'].value_counts(normalize=True).round(2)"
   ]
  },
  {
   "cell_type": "code",
   "execution_count": 342,
   "metadata": {},
   "outputs": [
    {
     "data": {
      "text/plain": [
       "<AxesSubplot:xlabel='accessible', ylabel='INSTSIZE'>"
      ]
     },
     "execution_count": 342,
     "metadata": {},
     "output_type": "execute_result"
    },
    {
     "data": {
      "image/png": "[encoded data removed]",
      "text/plain": [
       "<Figure size 432x288 with 1 Axes>"
      ]
     },
     "metadata": {
      "needs_background": "light"
     },
     "output_type": "display_data"
    }
   ],
   "source": [
    "import seaborn as sns \n",
    "sns.boxplot(data=merged2, x='accessible', y='INSTSIZE', showfliers=False)"
   ]
  },
  {
   "cell_type": "code",
   "execution_count": 372,
   "metadata": {},
   "outputs": [
    {
     "data": {
      "text/plain": [
       "OBEREG\n",
       "7    0.878713\n",
       "4    0.885537\n",
       "5    0.901639\n",
       "9    0.909938\n",
       "3    0.911448\n",
       "2    0.916826\n",
       "6    0.918803\n",
       "8    0.926036\n",
       "1    0.929293\n",
       "0    1.000000\n",
       "dtype: float64"
      ]
     },
     "execution_count": 372,
     "metadata": {},
     "output_type": "execute_result"
    }
   ],
   "source": [
    "merged2.groupby('OBEREG').apply(lambda x: x['accessible'].sum()/len(x)).sort_values()"
   ]
  },
  {
   "cell_type": "code",
   "execution_count": 370,
   "metadata": {},
   "outputs": [
    {
     "data": {
      "text/plain": [
       "5    0.263930\n",
       "2    0.170088\n",
       "3    0.136852\n",
       "4    0.126100\n",
       "8    0.097752\n",
       "6    0.074291\n",
       "1    0.054741\n",
       "7    0.047898\n",
       "9    0.028348\n",
       "Name: OBEREG, dtype: float64"
      ]
     },
     "execution_count": 370,
     "metadata": {},
     "output_type": "execute_result"
    }
   ],
   "source": [
    "merged2[~merged2['accessible']]['OBEREG'].value_counts(normalize=True)#[['INSTNM', 'INSTSIZE', 'CARNEGIE', 'cs_share_comp', 'cs_share_aid', 'OBEREG']]"
   ]
  },
  {
   "cell_type": "markdown",
   "metadata": {},
   "source": [
    "### INSTSIZE"
   ]
  },
  {
   "cell_type": "code",
   "execution_count": 21,
   "metadata": {},
   "outputs": [],
   "source": [
    "cs_pct = merged.groupby(['year', 'INSTSIZE']).apply(lambda x: 100*x[x['cs']]['CTOTALT'].sum()/x['CTOTALT'].sum())"
   ]
  },
  {
   "cell_type": "code",
   "execution_count": 22,
   "metadata": {},
   "outputs": [
    {
     "data": {
      "text/plain": [
       "<matplotlib.legend.Legend at 0x7f9c46a89ee0>"
      ]
     },
     "execution_count": 22,
     "metadata": {},
     "output_type": "execute_result"
    },
    {
     "data": {
      "image/png": "[encoded data removed]",
      "text/plain": [
       "<Figure size 432x288 with 1 Axes>"
      ]
     },
     "metadata": {
      "needs_background": "light"
     },
     "output_type": "display_data"
    }
   ],
   "source": [
    "cs_pct = cs_pct.reset_index().dropna()\n",
    "for size in cs_pct['INSTSIZE'].unique():\n",
    "    if size < 0: \n",
    "        continue\n",
    "    filtered = cs_pct[cs_pct['INSTSIZE'] == size]\n",
    "    plt.plot(filtered['year'], filtered[0], label=size)\n",
    "\n",
    "plt.legend()"
   ]
  },
  {
   "cell_type": "code",
   "execution_count": 33,
   "metadata": {},
   "outputs": [
    {
     "data": {
      "text/plain": [
       "UNITID\n",
       "146241        0.0\n",
       "161341        0.0\n",
       "133508        0.0\n",
       "119173        0.0\n",
       "107558        0.0\n",
       "           ...   \n",
       "228787    16250.0\n",
       "211440    18169.0\n",
       "139755    21510.0\n",
       "433387    34222.0\n",
       "163204    39472.0\n",
       "Name: CTOTALT, Length: 1696, dtype: float64"
      ]
     },
     "execution_count": 33,
     "metadata": {},
     "output_type": "execute_result"
    }
   ],
   "source": [
    "merged[merged['cs']].groupby('UNITID')['CTOTALT'].sum().sort_values()"
   ]
  },
  {
   "cell_type": "code",
   "execution_count": 27,
   "metadata": {},
   "outputs": [
    {
     "data": {
      "text/plain": [
       "Baccalaureate Colleges--General                                                    62486\n",
       "Baccalaureate Colleges--Liberal Arts                                               56742\n",
       "Not applicable, not in Carnegie universe (not accredited or nondegree-granting)    37279\n",
       "Theological seminaries and other specialized faith-related institutions            28930\n",
       "Associates Colleges                                                                11077\n",
       "Masters Colleges and Universities I                                                 9417\n",
       "Schools of art, music, and design                                                   9287\n",
       "Masters Colleges and Universities II                                                8573\n",
       "Baccalaureate/Associates Colleges                                                   6446\n",
       "Other separate health profession schools                                            5476\n",
       "Other specialized institutions                                                      3618\n",
       "Schools of business and management                                                  2640\n",
       "Tribal colleges                                                                     1671\n",
       "Schools of engineering and technology                                               1649\n",
       "Medical schools and medical centers                                                 1158\n",
       "Doctoral/Research Universities--Intensive                                           1079\n",
       "Schools of law                                                                       885\n",
       "Teachers colleges                                                                    806\n",
       "Name: CARNEGIE, dtype: int64"
      ]
     },
     "execution_count": 27,
     "metadata": {},
     "output_type": "execute_result"
    }
   ],
   "source": [
    "merged[merged['INSTSIZE'] == 1]['CARNEGIE'].replace(carnegie).value_counts()"
   ]
  },
  {
   "cell_type": "markdown",
   "metadata": {},
   "source": [
    "### CARNEGIE"
   ]
  },
  {
   "cell_type": "code",
   "execution_count": 23,
   "metadata": {},
   "outputs": [
    {
     "data": {
      "text/plain": [
       "<matplotlib.legend.Legend at 0x7fc93257cfd0>"
      ]
     },
     "execution_count": 23,
     "metadata": {},
     "output_type": "execute_result"
    },
    {
     "data": {
      "image/png": "[encoded data removed]",
      "text/plain": [
       "<Figure size 432x288 with 1 Axes>"
      ]
     },
     "metadata": {
      "needs_background": "light"
     },
     "output_type": "display_data"
    }
   ],
   "source": [
    "col = 'CARNEGIE'\n",
    "\n",
    "cs_pct = merged.groupby(['year', col]).apply(lambda x: 100*x[x['cs']]['CTOTALT'].sum()/x['CTOTALT'].sum())\n",
    "cs_pct = cs_pct.reset_index().dropna()\n",
    "for col_val in cs_pct[col].unique():\n",
    "    if size < 0: \n",
    "        continue\n",
    "    filtered = cs_pct[cs_pct[col] == col_val]\n",
    "    plt.plot(filtered['year'], filtered[0], label=carnegie[col_val])\n",
    "\n",
    "plt.legend(loc=(1, 0))"
   ]
  },
  {
   "cell_type": "code",
   "execution_count": null,
   "metadata": {},
   "outputs": [],
   "source": [
    "col = 'CARNEGIE'\n",
    "\n",
    "cs_pct = merged.groupby(['year', col]).apply(lambda x: 100*x[x['cs']]['CTOTALT'].sum()/x['CTOTALT'].sum())\n",
    "cs_pct = cs_pct.reset_index().dropna()\n",
    "for col_val in cs_pct[col].unique():\n",
    "    if size < 0: \n",
    "        continue\n",
    "    filtered = cs_pct[cs_pct[col] == col_val]\n",
    "    plt.plot(filtered['year'], filtered[0], label=carnegie[col_val])\n",
    "\n",
    "plt.legend(loc=(1, 0))"
   ]
  },
  {
   "cell_type": "markdown",
   "metadata": {},
   "source": [
    "# College Scorecard Data"
   ]
  },
  {
   "cell_type": "code",
   "execution_count": 23,
   "metadata": {},
   "outputs": [
    {
     "name": "stderr",
     "output_type": "stream",
     "text": [
      "100%|██████████| 5/5 [00:13<00:00,  2.69s/it]\n"
     ]
    }
   ],
   "source": [
    "from tqdm import tqdm \n",
    "fnames = glob('../../CollegeScorecardData/College_Scorecard_Raw_Data_04082024/Field*')\n",
    "\n",
    "scorecards = []\n",
    "\n",
    "for fname in tqdm(fnames): \n",
    "    df = pd.read_csv(fname)\n",
    "    df['year'] = int(fname.split('/')[-1].split('_')[0][-4:])\n",
    "    scorecards.append(df)\n",
    "\n",
    "all_sc = pd.concat(scorecards)"
   ]
  },
  {
   "cell_type": "code",
   "execution_count": 55,
   "metadata": {},
   "outputs": [],
   "source": [
    "# merged = pd.merge(insts, all_sc, left_on='UNITID', right_on='UNITID')\n",
    "# sc_agg = all_sc.groupby(['UNITID', 'year', 'cs']).sum()\n",
    "# all_sc.replace('PS', None).dropna(axis=1).shape\n",
    "# sc_agg = sc_agg.reset_index()"
   ]
  },
  {
   "cell_type": "code",
   "execution_count": 180,
   "metadata": {},
   "outputs": [
    {
     "data": {
      "text/plain": [
       "1718    39115\n",
       "1819    39047\n",
       "Name: year, dtype: int64"
      ]
     },
     "execution_count": 180,
     "metadata": {},
     "output_type": "execute_result"
    }
   ],
   "source": [
    "all_sc[['EARN_COUNT_PELL_WNE_1YR', 'year']].replace('PS', None).dropna()['year'].value_counts()"
   ]
  },
  {
   "cell_type": "markdown",
   "metadata": {},
   "source": [
    "## Comparison 1 (macro)"
   ]
  },
  {
   "cell_type": "code",
   "execution_count": 228,
   "metadata": {},
   "outputs": [],
   "source": [
    "all_sc['cs'] = all_sc['CIPCODE'].astype(str).apply(lambda x: len(x)==4 and x.startswith('11'))\n",
    "# all_sc['cs'] = all_sc['CIPCODE'].astype(str).apply(lambda x: x=='1101')\n",
    "cs_pct_sc = all_sc.groupby('year').apply(lambda x: x[x['cs']]['IPEDSCOUNT1'].sum()/x['IPEDSCOUNT1'].sum())\n",
    "cs_pct_sc.index = range(2014, 2019)"
   ]
  },
  {
   "cell_type": "code",
   "execution_count": 229,
   "metadata": {},
   "outputs": [
    {
     "data": {
      "image/png": "[encoded data removed]",
      "text/plain": [
       "<Figure size 432x288 with 1 Axes>"
      ]
     },
     "metadata": {
      "needs_background": "light"
     },
     "output_type": "display_data"
    }
   ],
   "source": [
    "# plt.plot(cs_pct_ipeds.loc[2014:2019], marker='s', label='CS % IPEDS');\n",
    "plt.plot(cs_pct_ipeds.loc[cs_pct_sc.index], marker='o', label='All Graduates (IPEDS)');\n",
    "# plt.twinx()\n",
    "plt.plot((100*cs_pct_sc), marker='s', label='Students on Federal Aid\\n(College Scorecard)');\n",
    "plt.legend()\n",
    "plt.grid()\n",
    "\n",
    "plt.ylabel('Percentage of students that\\nselected Computer Science')\n",
    "plt.xlabel('Year')\n",
    "\n",
    "plt.xticks(range(2014, 2019));"
   ]
  },
  {
   "cell_type": "code",
   "execution_count": 227,
   "metadata": {},
   "outputs": [
    {
     "data": {
      "text/plain": [
       "<matplotlib.legend.Legend at 0x7f9bc3f7fee0>"
      ]
     },
     "execution_count": 227,
     "metadata": {},
     "output_type": "execute_result"
    },
    {
     "data": {
      "image/png": "[encoded data removed]",
      "text/plain": [
       "<Figure size 1440x360 with 11 Axes>"
      ]
     },
     "metadata": {
      "needs_background": "light"
     },
     "output_type": "display_data"
    }
   ],
   "source": [
    "cs_only = all_sc[all_sc['cs']]\n",
    "cip_values = cs_only['CIPCODE'].value_counts()[:-1]\n",
    "\n",
    "# ipeds_cs = all_dfs[all_dfs['cs']]\n",
    "# ipeds_cs['CIPCODE2'] = ipeds_cs['CIPCODE'].astype(str).apply(lambda x: x.replace('.', '')[:4]).astype(int)\n",
    "\n",
    "all_dfs['CIPCODE2'] = all_dfs['CIPCODE'].astype(str).apply(lambda x: x.replace('.', '')[:4]).astype(int)\n",
    "\n",
    "fig, axs = plt.subplots(1, len(cip_values), figsize=(20, 5), sharey=True)\n",
    "\n",
    "for i, (code, count) in enumerate(cip_values.iteritems()): \n",
    "\n",
    "    # cs_only['cs2'] = cs_only['CIPCODE'] == code\n",
    "    # cs_pct_sc = cs_only.groupby('year').apply(lambda x: x[x['cs2']]['IPEDSCOUNT1'].sum()/x['IPEDSCOUNT1'].sum())\n",
    "    # cs_pct_sc.index = range(2014, 2019)\n",
    "\n",
    "    # cs_pct_ipeds = ipeds_cs.groupby('year').apply(lambda x: x[x['CIPCODE2']==code]['CTOTALT'].sum()/x['CTOTALT'].sum())\n",
    "    \n",
    "    all_sc['cs2'] = all_sc['CIPCODE'] == code\n",
    "    cs_pct_sc = all_sc.groupby('year').apply(lambda x: x[x['cs2']]['IPEDSCOUNT1'].sum()/x['IPEDSCOUNT1'].sum())\n",
    "    cs_pct_sc.index = range(2014, 2019)\n",
    "    \n",
    "    cs_pct_ipeds = all_dfs.groupby('year').apply(lambda x: x[x['CIPCODE2']==code]['CTOTALT'].sum()/x['CTOTALT'].sum())\n",
    "    \n",
    "    axs[i].plot(cs_pct_ipeds.loc[cs_pct_sc.index], marker='o', label='% CS / All (IPEDS)');\n",
    "    axs[i].plot(cs_pct_sc, marker='o', label='% Federal Aid (SC)');\n",
    "\n",
    "    axs[i].set_title(code)\n",
    "\n",
    "plt.legend(ncol=2, loc=(-7, 1.1))"
   ]
  },
  {
   "cell_type": "markdown",
   "metadata": {},
   "source": [
    "## Comparison 2 (breakdown)"
   ]
  },
  {
   "cell_type": "markdown",
   "metadata": {},
   "source": [
    "Scorecard Data"
   ]
  },
  {
   "cell_type": "code",
   "execution_count": null,
   "metadata": {},
   "outputs": [],
   "source": [
    "sc_stats = sc_agg.groupby(['UNITID', 'year']).apply(lambda x: x[x['cs']]['IPEDSCOUNT1'].sum()/x['IPEDSCOUNT1'].sum())\n",
    "sc_stats = sc_stats.reset_index().dropna().rename(columns={0: 'cs_aid_pct'})\n",
    "sc_stats['year2'] = sc_stats['year'].apply(lambda x: 2000+int(str(x)[:2]))"
   ]
  },
  {
   "cell_type": "markdown",
   "metadata": {},
   "source": [
    "IPEDS Data"
   ]
  },
  {
   "cell_type": "code",
   "execution_count": 111,
   "metadata": {},
   "outputs": [],
   "source": [
    "all_dfs2 = all_dfs.reset_index().rename(columns={'index': 'UNITID'})\n",
    "ipeds_cs_pct = all_dfs2.groupby(['UNITID', 'year']).apply(lambda x: x[x['cs']]['CTOTALT'].sum()/x['CTOTALT'].sum())\n",
    "ipeds_cs_pct = ipeds_cs_pct.dropna().reset_index().rename(columns={0: 'cs_ipeds_pct'})"
   ]
  },
  {
   "cell_type": "code",
   "execution_count": 114,
   "metadata": {},
   "outputs": [],
   "source": [
    "merged = pd.merge(sc_stats, ipeds_cs_pct, left_on=['UNITID', 'year2'], right_on=['UNITID', 'year'])"
   ]
  },
  {
   "cell_type": "code",
   "execution_count": 115,
   "metadata": {},
   "outputs": [
    {
     "data": {
      "text/html": [
       "<div>\n",
       "<style scoped>\n",
       "    .dataframe tbody tr th:only-of-type {\n",
       "        vertical-align: middle;\n",
       "    }\n",
       "\n",
       "    .dataframe tbody tr th {\n",
       "        vertical-align: top;\n",
       "    }\n",
       "\n",
       "    .dataframe thead th {\n",
       "        text-align: right;\n",
       "    }\n",
       "</style>\n",
       "<table border=\"1\" class=\"dataframe\">\n",
       "  <thead>\n",
       "    <tr style=\"text-align: right;\">\n",
       "      <th></th>\n",
       "      <th>UNITID</th>\n",
       "      <th>year_x</th>\n",
       "      <th>cs_aid_pct</th>\n",
       "      <th>year2</th>\n",
       "      <th>year_y</th>\n",
       "      <th>cs_ipeds_pct</th>\n",
       "    </tr>\n",
       "  </thead>\n",
       "  <tbody>\n",
       "    <tr>\n",
       "      <th>0</th>\n",
       "      <td>100654.0</td>\n",
       "      <td>1415</td>\n",
       "      <td>0.051805</td>\n",
       "      <td>2014</td>\n",
       "      <td>2014</td>\n",
       "      <td>0.013771</td>\n",
       "    </tr>\n",
       "    <tr>\n",
       "      <th>1</th>\n",
       "      <td>100654.0</td>\n",
       "      <td>1516</td>\n",
       "      <td>0.038251</td>\n",
       "      <td>2015</td>\n",
       "      <td>2015</td>\n",
       "      <td>0.031690</td>\n",
       "    </tr>\n",
       "    <tr>\n",
       "      <th>2</th>\n",
       "      <td>100654.0</td>\n",
       "      <td>1617</td>\n",
       "      <td>0.038037</td>\n",
       "      <td>2016</td>\n",
       "      <td>2016</td>\n",
       "      <td>0.020047</td>\n",
       "    </tr>\n",
       "    <tr>\n",
       "      <th>3</th>\n",
       "      <td>100654.0</td>\n",
       "      <td>1718</td>\n",
       "      <td>0.046045</td>\n",
       "      <td>2017</td>\n",
       "      <td>2017</td>\n",
       "      <td>0.017660</td>\n",
       "    </tr>\n",
       "    <tr>\n",
       "      <th>4</th>\n",
       "      <td>100654.0</td>\n",
       "      <td>1819</td>\n",
       "      <td>0.048148</td>\n",
       "      <td>2018</td>\n",
       "      <td>2018</td>\n",
       "      <td>0.029586</td>\n",
       "    </tr>\n",
       "    <tr>\n",
       "      <th>...</th>\n",
       "      <td>...</td>\n",
       "      <td>...</td>\n",
       "      <td>...</td>\n",
       "      <td>...</td>\n",
       "      <td>...</td>\n",
       "      <td>...</td>\n",
       "    </tr>\n",
       "    <tr>\n",
       "      <th>12445</th>\n",
       "      <td>491710.0</td>\n",
       "      <td>1819</td>\n",
       "      <td>0.000000</td>\n",
       "      <td>2018</td>\n",
       "      <td>2018</td>\n",
       "      <td>0.000000</td>\n",
       "    </tr>\n",
       "    <tr>\n",
       "      <th>12446</th>\n",
       "      <td>492069.0</td>\n",
       "      <td>1819</td>\n",
       "      <td>0.000000</td>\n",
       "      <td>2018</td>\n",
       "      <td>2018</td>\n",
       "      <td>0.000000</td>\n",
       "    </tr>\n",
       "    <tr>\n",
       "      <th>12447</th>\n",
       "      <td>492689.0</td>\n",
       "      <td>1819</td>\n",
       "      <td>0.000000</td>\n",
       "      <td>2018</td>\n",
       "      <td>2018</td>\n",
       "      <td>0.000000</td>\n",
       "    </tr>\n",
       "    <tr>\n",
       "      <th>12448</th>\n",
       "      <td>492801.0</td>\n",
       "      <td>1819</td>\n",
       "      <td>0.000000</td>\n",
       "      <td>2018</td>\n",
       "      <td>2018</td>\n",
       "      <td>0.000000</td>\n",
       "    </tr>\n",
       "    <tr>\n",
       "      <th>12449</th>\n",
       "      <td>492962.0</td>\n",
       "      <td>1819</td>\n",
       "      <td>0.024818</td>\n",
       "      <td>2018</td>\n",
       "      <td>2018</td>\n",
       "      <td>0.019144</td>\n",
       "    </tr>\n",
       "  </tbody>\n",
       "</table>\n",
       "<p>12450 rows × 6 columns</p>\n",
       "</div>"
      ],
      "text/plain": [
       "         UNITID  year_x  cs_aid_pct  year2  year_y  cs_ipeds_pct\n",
       "0      100654.0    1415    0.051805   2014    2014      0.013771\n",
       "1      100654.0    1516    0.038251   2015    2015      0.031690\n",
       "2      100654.0    1617    0.038037   2016    2016      0.020047\n",
       "3      100654.0    1718    0.046045   2017    2017      0.017660\n",
       "4      100654.0    1819    0.048148   2018    2018      0.029586\n",
       "...         ...     ...         ...    ...     ...           ...\n",
       "12445  491710.0    1819    0.000000   2018    2018      0.000000\n",
       "12446  492069.0    1819    0.000000   2018    2018      0.000000\n",
       "12447  492689.0    1819    0.000000   2018    2018      0.000000\n",
       "12448  492801.0    1819    0.000000   2018    2018      0.000000\n",
       "12449  492962.0    1819    0.024818   2018    2018      0.019144\n",
       "\n",
       "[12450 rows x 6 columns]"
      ]
     },
     "execution_count": 115,
     "metadata": {},
     "output_type": "execute_result"
    }
   ],
   "source": [
    "merged2"
   ]
  },
  {
   "cell_type": "code",
   "execution_count": 117,
   "metadata": {},
   "outputs": [
    {
     "data": {
      "text/html": [
       "<div>\n",
       "<style scoped>\n",
       "    .dataframe tbody tr th:only-of-type {\n",
       "        vertical-align: middle;\n",
       "    }\n",
       "\n",
       "    .dataframe tbody tr th {\n",
       "        vertical-align: top;\n",
       "    }\n",
       "\n",
       "    .dataframe thead th {\n",
       "        text-align: right;\n",
       "    }\n",
       "</style>\n",
       "<table border=\"1\" class=\"dataframe\">\n",
       "  <thead>\n",
       "    <tr style=\"text-align: right;\">\n",
       "      <th></th>\n",
       "      <th>UNITID</th>\n",
       "      <th>INSTNM</th>\n",
       "      <th>IALIAS</th>\n",
       "      <th>ADDR</th>\n",
       "      <th>CITY</th>\n",
       "      <th>STABBR</th>\n",
       "      <th>ZIP</th>\n",
       "      <th>FIPS</th>\n",
       "      <th>OBEREG</th>\n",
       "      <th>CHFNM</th>\n",
       "      <th>...</th>\n",
       "      <th>CBSATYPE</th>\n",
       "      <th>CSA</th>\n",
       "      <th>NECTA</th>\n",
       "      <th>COUNTYCD</th>\n",
       "      <th>COUNTYNM</th>\n",
       "      <th>CNGDSTCD</th>\n",
       "      <th>LONGITUD</th>\n",
       "      <th>LATITUDE</th>\n",
       "      <th>DFRCGID</th>\n",
       "      <th>DFRCUSCG</th>\n",
       "    </tr>\n",
       "  </thead>\n",
       "  <tbody>\n",
       "    <tr>\n",
       "      <th>0</th>\n",
       "      <td>100654</td>\n",
       "      <td>Alabama A &amp; M University</td>\n",
       "      <td>AAMU</td>\n",
       "      <td>4900 Meridian Street</td>\n",
       "      <td>Normal</td>\n",
       "      <td>AL</td>\n",
       "      <td>35762</td>\n",
       "      <td>1</td>\n",
       "      <td>5</td>\n",
       "      <td>Dr. Andrew Hugine, Jr.</td>\n",
       "      <td>...</td>\n",
       "      <td>1</td>\n",
       "      <td>290</td>\n",
       "      <td>-2</td>\n",
       "      <td>1089</td>\n",
       "      <td>Madison County</td>\n",
       "      <td>105</td>\n",
       "      <td>-86.568502</td>\n",
       "      <td>34.783368</td>\n",
       "      <td>109</td>\n",
       "      <td>1</td>\n",
       "    </tr>\n",
       "    <tr>\n",
       "      <th>1</th>\n",
       "      <td>100663</td>\n",
       "      <td>University of Alabama at Birmingham</td>\n",
       "      <td></td>\n",
       "      <td>Administration Bldg Suite 1070</td>\n",
       "      <td>Birmingham</td>\n",
       "      <td>AL</td>\n",
       "      <td>35294-0110</td>\n",
       "      <td>1</td>\n",
       "      <td>5</td>\n",
       "      <td>Ray L. Watts</td>\n",
       "      <td>...</td>\n",
       "      <td>1</td>\n",
       "      <td>142</td>\n",
       "      <td>-2</td>\n",
       "      <td>1073</td>\n",
       "      <td>Jefferson County</td>\n",
       "      <td>107</td>\n",
       "      <td>-86.799345</td>\n",
       "      <td>33.505697</td>\n",
       "      <td>95</td>\n",
       "      <td>1</td>\n",
       "    </tr>\n",
       "    <tr>\n",
       "      <th>2</th>\n",
       "      <td>100690</td>\n",
       "      <td>Amridge University</td>\n",
       "      <td>Southern Christian University  Regions University</td>\n",
       "      <td>1200 Taylor Rd</td>\n",
       "      <td>Montgomery</td>\n",
       "      <td>AL</td>\n",
       "      <td>36117-3553</td>\n",
       "      <td>1</td>\n",
       "      <td>5</td>\n",
       "      <td>Michael C.Turner</td>\n",
       "      <td>...</td>\n",
       "      <td>1</td>\n",
       "      <td>388</td>\n",
       "      <td>-2</td>\n",
       "      <td>1101</td>\n",
       "      <td>Montgomery County</td>\n",
       "      <td>102</td>\n",
       "      <td>-86.174010</td>\n",
       "      <td>32.362609</td>\n",
       "      <td>126</td>\n",
       "      <td>2</td>\n",
       "    </tr>\n",
       "  </tbody>\n",
       "</table>\n",
       "<p>3 rows × 73 columns</p>\n",
       "</div>"
      ],
      "text/plain": [
       "   UNITID                               INSTNM  \\\n",
       "0  100654             Alabama A & M University   \n",
       "1  100663  University of Alabama at Birmingham   \n",
       "2  100690                   Amridge University   \n",
       "\n",
       "                                              IALIAS  \\\n",
       "0                                               AAMU   \n",
       "1                                                      \n",
       "2  Southern Christian University  Regions University   \n",
       "\n",
       "                             ADDR        CITY STABBR         ZIP  FIPS  \\\n",
       "0            4900 Meridian Street      Normal     AL       35762     1   \n",
       "1  Administration Bldg Suite 1070  Birmingham     AL  35294-0110     1   \n",
       "2                  1200 Taylor Rd  Montgomery     AL  36117-3553     1   \n",
       "\n",
       "   OBEREG                   CHFNM  ... CBSATYPE  CSA  NECTA COUNTYCD  \\\n",
       "0       5  Dr. Andrew Hugine, Jr.  ...        1  290     -2     1089   \n",
       "1       5            Ray L. Watts  ...        1  142     -2     1073   \n",
       "2       5        Michael C.Turner  ...        1  388     -2     1101   \n",
       "\n",
       "            COUNTYNM  CNGDSTCD   LONGITUD   LATITUDE DFRCGID DFRCUSCG  \n",
       "0     Madison County       105 -86.568502  34.783368     109        1  \n",
       "1   Jefferson County       107 -86.799345  33.505697      95        1  \n",
       "2  Montgomery County       102 -86.174010  32.362609     126        2  \n",
       "\n",
       "[3 rows x 73 columns]"
      ]
     },
     "execution_count": 117,
     "metadata": {},
     "output_type": "execute_result"
    }
   ],
   "source": [
    "insts.head()[:3]"
   ]
  },
  {
   "cell_type": "code",
   "execution_count": 118,
   "metadata": {},
   "outputs": [],
   "source": [
    "merged2 = pd.merge(merged, insts, left_on='UNITID', right_on='UNITID')"
   ]
  },
  {
   "cell_type": "code",
   "execution_count": 158,
   "metadata": {},
   "outputs": [
    {
     "data": {
      "image/png": "[encoded data removed]",
      "text/plain": [
       "<Figure size 720x360 with 5 Axes>"
      ]
     },
     "metadata": {
      "needs_background": "light"
     },
     "output_type": "display_data"
    }
   ],
   "source": [
    "grobj = merged2.groupby(['INSTSIZE', 'year2'])\n",
    "\n",
    "aid_stats = grobj.apply(lambda x: pd.Series({'mean': x['cs_aid_pct'].mean(), 'std': x['cs_aid_pct'].std()})).reset_index()\n",
    "cs_stats = grobj.apply(lambda x: pd.Series({'mean': x['cs_ipeds_pct'].mean(), 'std': x['cs_ipeds_pct'].std()})).reset_index()\n",
    "\n",
    "fig, axs = plt.subplots(1, 5, figsize=(10, 5), sharey=True)\n",
    "\n",
    "sizes = [1, 2, 3, 4, 5]\n",
    "\n",
    "for i, size in enumerate(sizes):\n",
    "    # if size < 0: \n",
    "    #     continue\n",
    "    filtered_aids = aid_stats[aid_stats['INSTSIZE']==size]\n",
    "    filtered_cs   = cs_stats[cs_stats['INSTSIZE']==size]\n",
    "\n",
    "    axs[i].plot(filtered_aids['year2'], filtered_aids['mean'], label='CS Federal Aid', marker='o')\n",
    "    axs[i].plot(filtered_cs['year2'], filtered_cs['mean'], label='CS Completions', marker='s')\n",
    "\n",
    "    axs[i].set_title(size)\n",
    "\n",
    "plt.legend(loc=(-3, 1.1), ncol=2);"
   ]
  },
  {
   "cell_type": "code",
   "execution_count": 184,
   "metadata": {},
   "outputs": [
    {
     "data": {
      "text/plain": [
       "{1: 'New England (CT, ME, MA, NH, RI, VT)',\n",
       " 2: 'Mid East (DE, DC, MD, NJ, NY, PA)',\n",
       " 3: 'Great Lakes (IL, IN, MI, OH, WI)',\n",
       " 4: 'Plains (IA, KS, MN, MO, NE, ND, SD)',\n",
       " 5: 'Southeast (AL, AR, FL, GA, KY, LA, MS, NC, SC, TN, VA, WV)',\n",
       " 6: 'Southwest (AZ, NM, OK, TX)',\n",
       " 7: 'Rocky Mountains (CO, ID, MT, UT, WY)',\n",
       " 8: 'Far West (AK, CA, HI, NV, OR, WA)',\n",
       " 9: 'Outlying Areas (AS, FM, GU, MH, MP, PR, PW, VI)'}"
      ]
     },
     "execution_count": 184,
     "metadata": {},
     "output_type": "execute_result"
    }
   ],
   "source": [
    "obereg"
   ]
  },
  {
   "cell_type": "code",
   "execution_count": 186,
   "metadata": {},
   "outputs": [
    {
     "data": {
      "image/png": "[encoded data removed]",
      "text/plain": [
       "<Figure size 720x360 with 10 Axes>"
      ]
     },
     "metadata": {
      "needs_background": "light"
     },
     "output_type": "display_data"
    }
   ],
   "source": [
    "col       = 'OBEREG'\n",
    "grobj     = merged2.groupby([col, 'year2'])\n",
    "\n",
    "aid_stats = grobj.apply(lambda x: pd.Series({'mean': x['cs_aid_pct'].mean(), 'std': x['cs_aid_pct'].std()})).reset_index()\n",
    "cs_stats  = grobj.apply(lambda x: pd.Series({'mean': x['cs_ipeds_pct'].mean(), 'std': x['cs_ipeds_pct'].std()})).reset_index()\n",
    "\n",
    "\n",
    "# sizes = [1, 2, 3, 4, 5]\n",
    "unique_vals = merged2[col].unique()\n",
    "\n",
    "fig, axs  = plt.subplots(1, len(unique_vals), figsize=(10, 5), sharey=True)\n",
    "\n",
    "for i, val in enumerate(unique_vals):\n",
    "\n",
    "    if val not in obereg: \n",
    "        continue \n",
    "    \n",
    "    filtered_aids = 100*aid_stats[aid_stats[col]==val]\n",
    "    filtered_cs   = 100*cs_stats[cs_stats[col]==val]\n",
    "\n",
    "    axs[i].plot(filtered_cs['year2'], filtered_cs['mean'], label='CS Completions', marker='s')\n",
    "    axs[i].plot(filtered_aids['year2'], filtered_aids['mean'], label='CS Federal Aid', marker='o')\n",
    "\n",
    "    axs[i].set_title(obereg[val].split(' ')[0])\n",
    "    axs[i].grid()\n",
    "\n",
    "plt.legend(loc=(-1, 1.1), ncol=2);"
   ]
  }
 ],
 "metadata": {
  "kernelspec": {
   "display_name": "base",
   "language": "python",
   "name": "python3"
  },
  "language_info": {
   "codemirror_mode": {
    "name": "ipython",
    "version": 3
   },
   "file_extension": ".py",
   "mimetype": "text/x-python",
   "name": "python",
   "nbconvert_exporter": "python",
   "pygments_lexer": "ipython3",
   "version": "3.9.12"
  }
 },
 "nbformat": 4,
 "nbformat_minor": 2
}
