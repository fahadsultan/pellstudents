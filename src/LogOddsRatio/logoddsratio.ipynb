{
 "cells": [
  {
   "cell_type": "code",
   "execution_count": 2,
   "metadata": {},
   "outputs": [],
   "source": [
    "import pandas as pd\n",
    "from matplotlib import pyplot as plt\n",
    "from glob import glob\n",
    "from scipy.stats import mannwhitneyu, ttest_ind\n",
    "from tqdm import tqdm\n",
    "import numpy as np\n",
    "import math\n",
    "%matplotlib inline\n",
    "\n",
    "import warnings\n",
    "warnings.filterwarnings(\"ignore\")\n"
   ]
  },
  {
   "cell_type": "code",
   "execution_count": 3,
   "metadata": {},
   "outputs": [],
   "source": [
    "\n",
    "def load_ipeds_unis(fname='../../data/IPEDS/hd2020.csv', encoding='cp1252'):\n",
    "    return pd.read_csv(fname, encoding=encoding)\n",
    "\n",
    "def filter_only_rs_and_las(unis):\n",
    "    unis = unis[unis['C18BASIC'].apply(lambda x: x in [15, 16, 17, 21, 22])]\n",
    "    unis['Y']  = unis['C18BASIC'].apply(lambda x: 'liberal_arts' if x in [21, 22] else 'research')\n",
    "    return unis\n",
    "\n",
    "unis     = load_ipeds_unis()"
   ]
  },
  {
   "cell_type": "code",
   "execution_count": 4,
   "metadata": {},
   "outputs": [],
   "source": [
    "fnames         = glob('../../data/IPEDS/*_A/*_rv.csv')+glob('../../data/IPEDS/*_a.csv')\n",
    "fnames         = [fname for fname in fnames if ('2000' not in fname) and ('2001' not in fname)]\n",
    "dfs            = [pd.read_csv(fname, index_col=0) for fname in fnames]\n",
    "years          = [int(fname.split('/')[-1].split('_')[0][1:]) for fname in fnames]"
   ]
  },
  {
   "cell_type": "code",
   "execution_count": 5,
   "metadata": {},
   "outputs": [],
   "source": [
    "dfs            = [df.rename(columns={col: col.upper().strip() for col in df.columns}) for df in dfs]\n",
    "dfs            = [df[df['AWLEVEL']==5] for df in dfs]\n",
    "cs_maps        = [df['CIPCODE'].apply(lambda x: (x>=11) & (x<12)) for df in dfs]\n",
    "cs_maps        = [cs_map.rename('CS') for cs_map in cs_maps] \n",
    "cs_and_noncs   = [df.groupby([cs_maps[i], df.index]).sum().reset_index() for i, df in enumerate(dfs)]\n",
    "\n",
    "years          = [int(fname.split('/')[-1].split('_')[0][1:]) for fname in fnames]\n",
    "cs_and_noncs   = sorted(zip(years, cs_and_noncs), key=lambda x: x[0])\n"
   ]
  },
  {
   "cell_type": "code",
   "execution_count": 6,
   "metadata": {},
   "outputs": [],
   "source": [
    "\n",
    "def get_absolutes(var, var_alt):\n",
    "    abs_df = [df.groupby('CS').apply( \\\n",
    "                lambda x: x[var].sum() if var in df.columns else x[var_alt].sum()) \\\n",
    "                for year, df in cs_and_noncs]\n",
    "    abs_df = pd.concat(abs_df, axis=1).transpose()\n",
    "    return abs_df\n",
    "\n",
    "women_abs    = get_absolutes('CTOTALW', 'CRACE16')\n",
    "black_abs    = get_absolutes('CBKAAT',  'CRACE18')\n",
    "hispanic_abs = get_absolutes('CHISPT',  'CRACE21')\n",
    "natives_abs  = get_absolutes('CAIANT',  'CRACE19')\n",
    "\n"
   ]
  },
  {
   "cell_type": "code",
   "execution_count": 10,
   "metadata": {},
   "outputs": [
    {
     "data": {
      "text/html": [
       "<div>\n",
       "<style scoped>\n",
       "    .dataframe tbody tr th:only-of-type {\n",
       "        vertical-align: middle;\n",
       "    }\n",
       "\n",
       "    .dataframe tbody tr th {\n",
       "        vertical-align: top;\n",
       "    }\n",
       "\n",
       "    .dataframe thead th {\n",
       "        text-align: right;\n",
       "    }\n",
       "</style>\n",
       "<table border=\"1\" class=\"dataframe\">\n",
       "  <thead>\n",
       "    <tr style=\"text-align: right;\">\n",
       "      <th>CS</th>\n",
       "      <th>False</th>\n",
       "      <th>True</th>\n",
       "      <th>years</th>\n",
       "    </tr>\n",
       "  </thead>\n",
       "  <tbody>\n",
       "    <tr>\n",
       "      <th>0</th>\n",
       "      <td>1568949</td>\n",
       "      <td>13571</td>\n",
       "      <td>2002</td>\n",
       "    </tr>\n",
       "    <tr>\n",
       "      <th>1</th>\n",
       "      <td>1636637</td>\n",
       "      <td>16063</td>\n",
       "      <td>2003</td>\n",
       "    </tr>\n",
       "    <tr>\n",
       "      <th>2</th>\n",
       "      <td>1701655</td>\n",
       "      <td>15459</td>\n",
       "      <td>2004</td>\n",
       "    </tr>\n",
       "    <tr>\n",
       "      <th>3</th>\n",
       "      <td>1756889</td>\n",
       "      <td>12551</td>\n",
       "      <td>2005</td>\n",
       "    </tr>\n",
       "    <tr>\n",
       "      <th>4</th>\n",
       "      <td>1817274</td>\n",
       "      <td>10156</td>\n",
       "      <td>2006</td>\n",
       "    </tr>\n",
       "    <tr>\n",
       "      <th>5</th>\n",
       "      <td>1863037</td>\n",
       "      <td>8093</td>\n",
       "      <td>2007</td>\n",
       "    </tr>\n",
       "    <tr>\n",
       "      <th>6</th>\n",
       "      <td>1903703</td>\n",
       "      <td>7069</td>\n",
       "      <td>2008</td>\n",
       "    </tr>\n",
       "    <tr>\n",
       "      <th>7</th>\n",
       "      <td>1946173</td>\n",
       "      <td>7081</td>\n",
       "      <td>2009</td>\n",
       "    </tr>\n",
       "    <tr>\n",
       "      <th>8</th>\n",
       "      <td>2004507</td>\n",
       "      <td>7493</td>\n",
       "      <td>2010</td>\n",
       "    </tr>\n",
       "    <tr>\n",
       "      <th>9</th>\n",
       "      <td>2088419</td>\n",
       "      <td>7927</td>\n",
       "      <td>2011</td>\n",
       "    </tr>\n",
       "    <tr>\n",
       "      <th>10</th>\n",
       "      <td>2183800</td>\n",
       "      <td>9056</td>\n",
       "      <td>2012</td>\n",
       "    </tr>\n",
       "    <tr>\n",
       "      <th>11</th>\n",
       "      <td>2238222</td>\n",
       "      <td>9546</td>\n",
       "      <td>2013</td>\n",
       "    </tr>\n",
       "    <tr>\n",
       "      <th>12</th>\n",
       "      <td>2266365</td>\n",
       "      <td>10535</td>\n",
       "      <td>2014</td>\n",
       "    </tr>\n",
       "    <tr>\n",
       "      <th>13</th>\n",
       "      <td>2294821</td>\n",
       "      <td>11307</td>\n",
       "      <td>2015</td>\n",
       "    </tr>\n",
       "    <tr>\n",
       "      <th>14</th>\n",
       "      <td>2327528</td>\n",
       "      <td>12848</td>\n",
       "      <td>2016</td>\n",
       "    </tr>\n",
       "    <tr>\n",
       "      <th>15</th>\n",
       "      <td>2370196</td>\n",
       "      <td>14578</td>\n",
       "      <td>2017</td>\n",
       "    </tr>\n",
       "    <tr>\n",
       "      <th>16</th>\n",
       "      <td>2407075</td>\n",
       "      <td>17097</td>\n",
       "      <td>2018</td>\n",
       "    </tr>\n",
       "    <tr>\n",
       "      <th>17</th>\n",
       "      <td>2437828</td>\n",
       "      <td>19474</td>\n",
       "      <td>2019</td>\n",
       "    </tr>\n",
       "    <tr>\n",
       "      <th>18</th>\n",
       "      <td>2482857</td>\n",
       "      <td>22161</td>\n",
       "      <td>2020</td>\n",
       "    </tr>\n",
       "    <tr>\n",
       "      <th>19</th>\n",
       "      <td>2537058</td>\n",
       "      <td>24476</td>\n",
       "      <td>2021</td>\n",
       "    </tr>\n",
       "    <tr>\n",
       "      <th>20</th>\n",
       "      <td>2482285</td>\n",
       "      <td>26175</td>\n",
       "      <td>2022</td>\n",
       "    </tr>\n",
       "  </tbody>\n",
       "</table>\n",
       "</div>"
      ],
      "text/plain": [
       "CS    False   True  years\n",
       "0   1568949  13571   2002\n",
       "1   1636637  16063   2003\n",
       "2   1701655  15459   2004\n",
       "3   1756889  12551   2005\n",
       "4   1817274  10156   2006\n",
       "5   1863037   8093   2007\n",
       "6   1903703   7069   2008\n",
       "7   1946173   7081   2009\n",
       "8   2004507   7493   2010\n",
       "9   2088419   7927   2011\n",
       "10  2183800   9056   2012\n",
       "11  2238222   9546   2013\n",
       "12  2266365  10535   2014\n",
       "13  2294821  11307   2015\n",
       "14  2327528  12848   2016\n",
       "15  2370196  14578   2017\n",
       "16  2407075  17097   2018\n",
       "17  2437828  19474   2019\n",
       "18  2482857  22161   2020\n",
       "19  2537058  24476   2021\n",
       "20  2482285  26175   2022"
      ]
     },
     "execution_count": 10,
     "metadata": {},
     "output_type": "execute_result"
    }
   ],
   "source": [
    "women_abs"
   ]
  },
  {
   "cell_type": "code",
   "execution_count": 9,
   "metadata": {},
   "outputs": [],
   "source": [
    "women_abs['years']  = [year for year, _ in cs_and_noncs]\n",
    "black_abs['years']  = [year for year, _ in cs_and_noncs]\n",
    "hispanic_abs['years']  = [year for year, _ in cs_and_noncs]\n",
    "\n",
    "women_abs.to_csv('../../data/women_abs.csv')\n",
    "black_abs.to_csv('../../data/black_abs.csv')\n",
    "hispanic_abs.to_csv('../../data/hispanic_abs.csv')"
   ]
  },
  {
   "cell_type": "code",
   "execution_count": 116,
   "metadata": {},
   "outputs": [
    {
     "data": {
      "image/png": "[encoded data removed]",
      "text/plain": [
       "<Figure size 720x360 with 2 Axes>"
      ]
     },
     "metadata": {
      "needs_background": "light"
     },
     "output_type": "display_data"
    }
   ],
   "source": [
    "fig, axs       = plt.subplots(1, 2, figsize=(10,5))\n",
    "\n",
    "_ = [axs[0].plot(df, linewidth=3, marker='s') for df in [women_abs[True], black_abs[True], hispanic_abs[True]]]\n",
    "# axs[0].set_xticks(range(len(years)), sorted(years), rotation=90);\n",
    "axs[0].set_xticks([0, 5, 6, 9, 18], [2002, 2007, 2008, 2011, 2020], rotation=90, fontsize=14);\n",
    "axs[0].set_title('CS Programs', color='black', fontsize=14);\n",
    "# axs[0].legend(['Women', 'Black', 'Hispanic', 'Native American']);\n",
    "\n",
    "_ = [axs[1].plot(df, linewidth=3, marker='o') for df in [women_abs[False], black_abs[False], hispanic_abs[False]]]\n",
    "# axs[1].set_xticks(range(len(years)), sorted(years), rotation=90);\n",
    "axs[1].set_xticks([0, 5, 6, 9, 18], [2002, 2007, 2008, 2011, 2020], rotation=90, fontsize=14);\n",
    "axs[1].set_title('Non-CS Programs', color='black', fontsize=14);\n",
    "# axs[1].legend(['Women', 'Black', 'Hispanic', 'Native American']);\n",
    "\n",
    "# handles, labels = axs[0].get_legend_handles_labels()\n",
    "fig.legend(['Women', 'Black', 'Hispanic or Latino'], ncol=4, fontsize=14, bbox_to_anchor=(0.8, 1.05))\n",
    "\n",
    "axs[0].set_ylabel('Absolute Count of Graduates', color='black', fontsize=17);\n",
    "axs[0].set_xlabel('\\nYear', color='black', fontsize=16);\n",
    "axs[1].set_xlabel('\\nYear', color='black', fontsize=16);\n",
    "\n",
    "axs[0].grid();\n",
    "axs[1].grid();\n",
    "\n",
    "# plt.xlim(2018, 2022)"
   ]
  },
  {
   "cell_type": "markdown",
   "metadata": {},
   "source": [
    "## Percentages"
   ]
  },
  {
   "cell_type": "code",
   "execution_count": 70,
   "metadata": {},
   "outputs": [],
   "source": [
    "fnames         = glob('../../data/IPEDS/*_A/*_rv.csv')+glob('../../data/IPEDS/*_a.csv')\n",
    "fnames         = [fname for fname in fnames if ('2000' not in fname) and ('2001' not in fname)]\n",
    "dfs            = [pd.read_csv(fname, index_col=0) for fname in fnames]\n",
    "dfs            = [df.rename(columns={col: col.upper().strip() for col in df.columns}) for df in dfs]\n",
    "dfs            = [df[df['AWLEVEL']==5] for df in dfs]\n",
    "cs_maps        = [df['CIPCODE'].apply(lambda x: (x>=11) & (x<12)) for df in dfs]\n",
    "cs_maps        = [cs_map.rename('CS') for cs_map in cs_maps] \n",
    "cs_and_noncs   = [df.groupby([cs_maps[i], df.index]).sum().reset_index() for i, df in enumerate(dfs)]\n",
    "\n",
    "\n",
    "years          = [int(fname.split('/')[-1].split('_')[0][1:]) for fname in fnames]\n",
    "cs_and_noncs   = sorted(zip(years, cs_and_noncs), key=lambda x: x[0])"
   ]
  },
  {
   "cell_type": "code",
   "execution_count": 110,
   "metadata": {},
   "outputs": [],
   "source": [
    "def get_odd_ratio(all_years, var, var_alt):\n",
    "    odds_df = [(df[df['CS']][var].sum()*100     / df[var].sum() if var in df.columns else\\\n",
    "               df[df['CS']][var_alt].sum()*100 / df[var_alt].sum())\\\n",
    "        for year, df in all_years]\n",
    "    \n",
    "    # odds_df = pd.concat(odds_df, axis=1).transpose()\n",
    "    return odds_df\n",
    "\n",
    "women_odds    = get_odd_ratio(cs_and_noncs, 'CTOTALW', 'CRACE16')\n",
    "black_odds    = get_odd_ratio(cs_and_noncs, 'CBKAAT',  'CRACE18')\n",
    "hispanic_odds = get_odd_ratio(cs_and_noncs, 'CHISPT',  'CRACE21')\n",
    "natives_odds  = get_odd_ratio(cs_and_noncs, 'CAIANT',  'CRACE19')\n"
   ]
  },
  {
   "cell_type": "code",
   "execution_count": 126,
   "metadata": {},
   "outputs": [
    {
     "data": {
      "image/png": "[encoded data removed]",
      "text/plain": [
       "<Figure size 432x288 with 1 Axes>"
      ]
     },
     "metadata": {
      "needs_background": "light"
     },
     "output_type": "display_data"
    }
   ],
   "source": [
    "plt.plot(women_odds, marker='s', label='Women');\n",
    "plt.plot(black_odds, marker='o', label='Black or African American');\n",
    "plt.plot(hispanic_odds, marker='^', label='Hispanic or Latino');\n",
    "plt.legend()\n",
    "# plt.yscale('log')\n",
    "plt.grid()\n",
    "plt.xticks(range(len(hispanic_odds)), [x for x, _ in cs_and_noncs], rotation=90);"
   ]
  },
  {
   "cell_type": "code",
   "execution_count": null,
   "metadata": {},
   "outputs": [],
   "source": []
  },
  {
   "cell_type": "code",
   "execution_count": 76,
   "metadata": {},
   "outputs": [],
   "source": [
    "def get_percentages(var, var_alt):\n",
    "    abs_df = [df.groupby('CS').apply( lambda x:\\\n",
    "            x[var].sum()     / x['CTOTALT'].sum()        if var in df.columns      else\\\n",
    "            x[var_alt].sum() / x['CRACE24'].sum()        if 'CRACE24' in df.columns else\\\n",
    "            x[var_alt].sum() / (x['CRACE15']+x['CRACE16']).sum())\\\n",
    "        for year, df in cs_and_noncs]\n",
    "    \n",
    "    abs_df = pd.concat(abs_df, axis=1).transpose()\n",
    "    return abs_df\n",
    "\n",
    "women_pct    = get_percentages(cs_and_noncs, 'CTOTALW', 'CRACE16')\n",
    "black_pct    = get_percentages('CBKAAT',  'CRACE18')\n",
    "hispanic_pct = get_percentages('CHISPT',  'CRACE21')\n",
    "natives_pct  = get_percentages('CAIANT',  'CRACE19')"
   ]
  },
  {
   "cell_type": "code",
   "execution_count": 77,
   "metadata": {},
   "outputs": [
    {
     "data": {
      "image/png": "[encoded data removed]",
      "text/plain": [
       "<Figure size 720x360 with 2 Axes>"
      ]
     },
     "metadata": {
      "needs_background": "light"
     },
     "output_type": "display_data"
    }
   ],
   "source": [
    "fig, axs       = plt.subplots(1, 2, figsize=(10,5))\n",
    "\n",
    "axs[0].plot(women_pct[True], linewidth=3, marker='s')\n",
    "axs[0].plot(black_pct[True], linewidth=3, marker='s')\n",
    "axs[0].plot(hispanic_pct[True], linewidth=3, marker='s')\n",
    "# axs[0].plot(natives_pct[True])\n",
    "axs[0].set_xticks(range(len(years)), sorted(years), rotation=90);\n",
    "axs[0].set_title('CS Programs', color='black', fontsize=14);\n",
    "# axs[0].legend(['Women', 'Black', 'Hispanic', 'Native American']);\n",
    "\n",
    "axs[1].plot(women_pct[False], linewidth=3, marker='s')\n",
    "axs[1].plot(black_pct[False], linewidth=3, marker='s')\n",
    "axs[1].plot(hispanic_pct[False], linewidth=3, marker='s')\n",
    "# axs[1].plot(natives_pct[False])\n",
    "axs[1].set_xticks(range(len(years)), sorted(years), rotation=90);\n",
    "axs[1].set_title('Non-CS Programs', color='black', fontsize=14);\n",
    "# axs[1].legend(['Women', 'Black', 'Hispanic', 'Native American']);\n",
    "\n",
    "axs[0].set_xticks([0, 5, 6, 9, 18], [2002, 2007, 2008, 2011, 2020], rotation=90, fontsize=14);\n",
    "axs[1].set_xticks([0, 5, 6, 9, 18], [2002, 2007, 2008, 2011, 2020], rotation=90, fontsize=14);\n",
    "axs[0].grid();\n",
    "axs[1].grid();\n",
    "fig.legend(['Women', 'Black', 'Hispanic or Latino'], ncol=4, fontsize=14, bbox_to_anchor=(0.8, 1.05))\n",
    "\n",
    "axs[0].set_ylabel('Percent of Graduating Class', color='black', fontsize=17);\n",
    "axs[0].set_xlabel('\\nYear', color='black', fontsize=16);\n",
    "axs[1].set_xlabel('\\nYear', color='black', fontsize=16);\n",
    "\n",
    "axs[0].set_ylim(0, 0.65);\n",
    "axs[1].set_ylim(0, 0.65);"
   ]
  },
  {
   "cell_type": "markdown",
   "metadata": {},
   "source": [
    "## New"
   ]
  },
  {
   "cell_type": "code",
   "execution_count": 10,
   "metadata": {},
   "outputs": [],
   "source": [
    "import pandas as pd \n",
    "\n",
    "data = pd.read_csv('../../data/IPEDS/completions/c2010_a.csv')"
   ]
  },
  {
   "cell_type": "code",
   "execution_count": 13,
   "metadata": {},
   "outputs": [
    {
     "data": {
      "text/html": [
       "<div>\n",
       "<style scoped>\n",
       "    .dataframe tbody tr th:only-of-type {\n",
       "        vertical-align: middle;\n",
       "    }\n",
       "\n",
       "    .dataframe tbody tr th {\n",
       "        vertical-align: top;\n",
       "    }\n",
       "\n",
       "    .dataframe thead th {\n",
       "        text-align: right;\n",
       "    }\n",
       "</style>\n",
       "<table border=\"1\" class=\"dataframe\">\n",
       "  <thead>\n",
       "    <tr style=\"text-align: right;\">\n",
       "      <th></th>\n",
       "      <th>UNITID</th>\n",
       "      <th>CIPCODE</th>\n",
       "      <th>MAJORNUM</th>\n",
       "      <th>AWLEVEL</th>\n",
       "      <th>XCNRALM</th>\n",
       "      <th>CNRALM</th>\n",
       "      <th>XCNRALW</th>\n",
       "      <th>CNRALW</th>\n",
       "      <th>XCRACE03</th>\n",
       "      <th>CRACE03</th>\n",
       "      <th>...</th>\n",
       "      <th>XDVCHSM</th>\n",
       "      <th>DVCHSM</th>\n",
       "      <th>XDVCHSW</th>\n",
       "      <th>DVCHSW</th>\n",
       "      <th>XDVCWHT</th>\n",
       "      <th>DVCWHT</th>\n",
       "      <th>XDVCWHM</th>\n",
       "      <th>DVCWHM</th>\n",
       "      <th>XDVCWHW</th>\n",
       "      <th>DVCWHW</th>\n",
       "    </tr>\n",
       "  </thead>\n",
       "  <tbody>\n",
       "    <tr>\n",
       "      <th>0</th>\n",
       "      <td>100636</td>\n",
       "      <td>9.0999</td>\n",
       "      <td>1</td>\n",
       "      <td>3</td>\n",
       "      <td>R</td>\n",
       "      <td>0</td>\n",
       "      <td>R</td>\n",
       "      <td>0</td>\n",
       "      <td>R</td>\n",
       "      <td>3.0</td>\n",
       "      <td>...</td>\n",
       "      <td>R</td>\n",
       "      <td>0</td>\n",
       "      <td>R</td>\n",
       "      <td>0</td>\n",
       "      <td>R</td>\n",
       "      <td>47</td>\n",
       "      <td>R</td>\n",
       "      <td>31</td>\n",
       "      <td>R</td>\n",
       "      <td>16</td>\n",
       "    </tr>\n",
       "    <tr>\n",
       "      <th>1</th>\n",
       "      <td>100636</td>\n",
       "      <td>10.0105</td>\n",
       "      <td>1</td>\n",
       "      <td>3</td>\n",
       "      <td>R</td>\n",
       "      <td>0</td>\n",
       "      <td>R</td>\n",
       "      <td>0</td>\n",
       "      <td>R</td>\n",
       "      <td>43.0</td>\n",
       "      <td>...</td>\n",
       "      <td>R</td>\n",
       "      <td>0</td>\n",
       "      <td>R</td>\n",
       "      <td>0</td>\n",
       "      <td>R</td>\n",
       "      <td>802</td>\n",
       "      <td>R</td>\n",
       "      <td>577</td>\n",
       "      <td>R</td>\n",
       "      <td>225</td>\n",
       "    </tr>\n",
       "    <tr>\n",
       "      <th>2</th>\n",
       "      <td>100636</td>\n",
       "      <td>11.0101</td>\n",
       "      <td>1</td>\n",
       "      <td>3</td>\n",
       "      <td>R</td>\n",
       "      <td>0</td>\n",
       "      <td>R</td>\n",
       "      <td>0</td>\n",
       "      <td>R</td>\n",
       "      <td>3.0</td>\n",
       "      <td>...</td>\n",
       "      <td>R</td>\n",
       "      <td>0</td>\n",
       "      <td>R</td>\n",
       "      <td>0</td>\n",
       "      <td>R</td>\n",
       "      <td>57</td>\n",
       "      <td>R</td>\n",
       "      <td>54</td>\n",
       "      <td>R</td>\n",
       "      <td>3</td>\n",
       "    </tr>\n",
       "    <tr>\n",
       "      <th>3</th>\n",
       "      <td>100636</td>\n",
       "      <td>11.0401</td>\n",
       "      <td>1</td>\n",
       "      <td>3</td>\n",
       "      <td>R</td>\n",
       "      <td>0</td>\n",
       "      <td>R</td>\n",
       "      <td>0</td>\n",
       "      <td>R</td>\n",
       "      <td>107.0</td>\n",
       "      <td>...</td>\n",
       "      <td>R</td>\n",
       "      <td>0</td>\n",
       "      <td>R</td>\n",
       "      <td>0</td>\n",
       "      <td>R</td>\n",
       "      <td>671</td>\n",
       "      <td>R</td>\n",
       "      <td>554</td>\n",
       "      <td>R</td>\n",
       "      <td>117</td>\n",
       "    </tr>\n",
       "    <tr>\n",
       "      <th>4</th>\n",
       "      <td>100636</td>\n",
       "      <td>13.0499</td>\n",
       "      <td>1</td>\n",
       "      <td>3</td>\n",
       "      <td>R</td>\n",
       "      <td>0</td>\n",
       "      <td>R</td>\n",
       "      <td>0</td>\n",
       "      <td>R</td>\n",
       "      <td>32.0</td>\n",
       "      <td>...</td>\n",
       "      <td>R</td>\n",
       "      <td>0</td>\n",
       "      <td>R</td>\n",
       "      <td>0</td>\n",
       "      <td>R</td>\n",
       "      <td>166</td>\n",
       "      <td>R</td>\n",
       "      <td>110</td>\n",
       "      <td>R</td>\n",
       "      <td>56</td>\n",
       "    </tr>\n",
       "  </tbody>\n",
       "</table>\n",
       "<p>5 rows × 124 columns</p>\n",
       "</div>"
      ],
      "text/plain": [
       "   UNITID  CIPCODE  MAJORNUM  AWLEVEL XCNRALM  CNRALM XCNRALW  CNRALW  \\\n",
       "0  100636   9.0999         1        3       R       0       R       0   \n",
       "1  100636  10.0105         1        3       R       0       R       0   \n",
       "2  100636  11.0101         1        3       R       0       R       0   \n",
       "3  100636  11.0401         1        3       R       0       R       0   \n",
       "4  100636  13.0499         1        3       R       0       R       0   \n",
       "\n",
       "  XCRACE03  CRACE03  ... XDVCHSM  DVCHSM XDVCHSW  DVCHSW XDVCWHT  DVCWHT  \\\n",
       "0        R      3.0  ...       R       0       R       0       R      47   \n",
       "1        R     43.0  ...       R       0       R       0       R     802   \n",
       "2        R      3.0  ...       R       0       R       0       R      57   \n",
       "3        R    107.0  ...       R       0       R       0       R     671   \n",
       "4        R     32.0  ...       R       0       R       0       R     166   \n",
       "\n",
       "  XDVCWHM  DVCWHM XDVCWHW  DVCWHW    \n",
       "0       R      31       R        16  \n",
       "1       R     577       R       225  \n",
       "2       R      54       R         3  \n",
       "3       R     554       R       117  \n",
       "4       R     110       R        56  \n",
       "\n",
       "[5 rows x 124 columns]"
      ]
     },
     "execution_count": 13,
     "metadata": {},
     "output_type": "execute_result"
    }
   ],
   "source": [
    "data.head()"
   ]
  },
  {
   "cell_type": "code",
   "execution_count": 14,
   "metadata": {},
   "outputs": [],
   "source": [
    "data['cs'] = (data['CIPCODE'] >= 11) & (data['CIPCODE'] < 12)"
   ]
  },
  {
   "cell_type": "code",
   "execution_count": 20,
   "metadata": {},
   "outputs": [],
   "source": [
    "filtered = data[['UNITID', 'cs', 'CBKAAT']]\n",
    "\n",
    "filtered = filtered.fillna(0)"
   ]
  },
  {
   "cell_type": "code",
   "execution_count": 23,
   "metadata": {},
   "outputs": [],
   "source": [
    "denominator = filtered.groupby('UNITID')['CBKAAT'].sum()\n",
    "numerator   = filtered[filtered['cs']].groupby('UNITID')['CBKAAT'].sum()\n",
    "\n",
    "result = numerator / denominator"
   ]
  },
  {
   "cell_type": "code",
   "execution_count": 30,
   "metadata": {},
   "outputs": [],
   "source": [
    "merged = pd.merge(numerator, denominator, on='UNITID')\n",
    "merged.columns = ['cs', 'total']\n",
    "\n",
    "merged['ratio'] = merged['cs'] / merged['total']"
   ]
  },
  {
   "cell_type": "code",
   "execution_count": 33,
   "metadata": {},
   "outputs": [
    {
     "data": {
      "text/plain": [
       "<AxesSubplot:>"
      ]
     },
     "execution_count": 33,
     "metadata": {},
     "output_type": "execute_result"
    },
    {
     "data": {
      "image/png": "[encoded data removed]",
      "text/plain": [
       "<Figure size 432x288 with 1 Axes>"
      ]
     },
     "metadata": {
      "needs_background": "light"
     },
     "output_type": "display_data"
    }
   ],
   "source": [
    "merged['ratio'].hist(bins=5)"
   ]
  }
 ],
 "metadata": {
  "kernelspec": {
   "display_name": "base",
   "language": "python",
   "name": "python3"
  },
  "language_info": {
   "codemirror_mode": {
    "name": "ipython",
    "version": 3
   },
   "file_extension": ".py",
   "mimetype": "text/x-python",
   "name": "python",
   "nbconvert_exporter": "python",
   "pygments_lexer": "ipython3",
   "version": "3.9.12"
  }
 },
 "nbformat": 4,
 "nbformat_minor": 2
}
