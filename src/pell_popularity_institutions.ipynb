{
 "cells": [
  {
   "cell_type": "code",
   "execution_count": 16,
   "metadata": {},
   "outputs": [],
   "source": [
    "import pandas as pd\n",
    "from matplotlib import pyplot as plt\n",
    "from glob import glob\n",
    "from tqdm import tqdm\n",
    "import numpy as np\n",
    "import math\n",
    "%matplotlib inline\n",
    "\n",
    "# 2004, 2008, 2011\n",
    "\n",
    "import warnings\n",
    "warnings.filterwarnings(\"ignore\")"
   ]
  },
  {
   "cell_type": "markdown",
   "metadata": {},
   "source": [
    "### IPEDs"
   ]
  },
  {
   "cell_type": "code",
   "execution_count": 17,
   "metadata": {},
   "outputs": [
    {
     "name": "stderr",
     "output_type": "stream",
     "text": [
      "100%|██████████| 23/23 [00:14<00:00,  1.61it/s]\n"
     ]
    }
   ],
   "source": [
    "drive_url = \"/Users/fsultan_1/Library/CloudStorage/GoogleDrive-syedfahadsultan@gmail.com/My Drive/data/\"\n",
    "\n",
    "sc_url    = drive_url+\"CollegeScorecard_data\"\n",
    "ipeds_url = drive_url+\"IPEDS_data\"\n",
    "\n",
    "fnames  = glob(ipeds_url+'/completions/*_A/*_rv.csv')+glob(ipeds_url+'/completions/*_a.csv')\n",
    "\n",
    "# unis    = pd.read_csv('../data/hd2020.csv', encoding='cp1252')\n",
    "# fnames  = glob('../data/IPEDS/*_A/*_rv.csv')+glob('../data/IPEDS/*_a.csv')\n",
    "all_dfs     = []\n",
    "\n",
    "for fname in tqdm(fnames): \n",
    "\n",
    "    year = int(fname.split('/')[-1].split('_')[0][1:])\n",
    "    if year <= 2001:\n",
    "        continue \n",
    "\n",
    "    df          = pd.read_csv(fname, index_col=0)\n",
    "    df          = df.rename(columns={col: col.upper().strip() for col in df.columns})\n",
    "    df          = df[df['AWLEVEL'].apply(lambda x: x in [5, 7, 9, 17, 18, 19])]\n",
    "    df['cs']    = df['CIPCODE'].apply(lambda x: (x>=11) & (x<12))\n",
    "    df['year']  = year\n",
    "    df['ugd']   = df['AWLEVEL'] == 5\n",
    "    df['mst']   = df['AWLEVEL'] == 7\n",
    "    df['phd']   = df['AWLEVEL'] >  7\n",
    "\n",
    "    all_dfs.append(df)\n",
    "\n",
    "all_dfs = pd.concat(all_dfs)"
   ]
  },
  {
   "cell_type": "code",
   "execution_count": 22,
   "metadata": {},
   "outputs": [],
   "source": [
    "ipeds          = all_dfs.reset_index().rename(columns={'index': 'UNITID'})\n",
    "ipeds_cs_stats = ipeds.groupby(['UNITID', 'year']).apply(lambda x: x[x['cs']]['CTOTALT'].sum()/x['CTOTALT'].sum())\n",
    "ipeds_cs_stats = ipeds_cs_stats.dropna().reset_index().rename(columns={0: 'cs_share_comp'})"
   ]
  },
  {
   "cell_type": "markdown",
   "metadata": {},
   "source": [
    "### Scorecard"
   ]
  },
  {
   "cell_type": "code",
   "execution_count": 34,
   "metadata": {},
   "outputs": [
    {
     "name": "stderr",
     "output_type": "stream",
     "text": [
      "100%|██████████| 4/4 [00:10<00:00,  2.68s/it]\n"
     ]
    }
   ],
   "source": [
    "from tqdm import tqdm \n",
    "fnames = glob(sc_url+'/Field*')\n",
    "\n",
    "scorecards = []\n",
    "\n",
    "for fname in tqdm(fnames): \n",
    "    df = pd.read_csv(fname)\n",
    "    df['year'] = int(fname.split('/')[-1].split('_')[0][-4:])\n",
    "    scorecards.append(df)\n",
    "\n",
    "all_sc = pd.concat(scorecards)"
   ]
  },
  {
   "cell_type": "code",
   "execution_count": 36,
   "metadata": {},
   "outputs": [],
   "source": [
    "is_cs = lambda x: (len(x)==4) and (x.startswith('11'))\n",
    "all_sc['cs'] = all_sc['CIPCODE'].astype(str).apply(is_cs)"
   ]
  },
  {
   "cell_type": "code",
   "execution_count": 122,
   "metadata": {},
   "outputs": [
    {
     "data": {
      "text/plain": [
       "Index(['BBRR2_FED_COMP_N', 'BBRR2_FED_COMP_DFLT', 'BBRR2_FED_COMP_DLNQ',\n",
       "       'BBRR2_FED_COMP_FBR', 'BBRR2_FED_COMP_DFR', 'BBRR2_FED_COMP_NOPROG',\n",
       "       'BBRR2_FED_COMP_MAKEPROG', 'BBRR2_FED_COMP_PAIDINFULL',\n",
       "       'BBRR2_FED_COMP_DISCHARGE', 'BBRR3_FED_COMP_N', 'BBRR3_FED_COMP_DFLT',\n",
       "       'BBRR3_FED_COMP_DLNQ', 'BBRR3_FED_COMP_FBR', 'BBRR3_FED_COMP_DFR',\n",
       "       'BBRR3_FED_COMP_NOPROG', 'BBRR3_FED_COMP_MAKEPROG',\n",
       "       'BBRR3_FED_COMP_PAIDINFULL', 'BBRR3_FED_COMP_DISCHARGE',\n",
       "       'EARN_COUNT_PELL_WNE_1YR', 'EARN_PELL_WNE_MDN_1YR',\n",
       "       'EARN_COUNT_NOPELL_WNE_1YR', 'EARN_NOPELL_WNE_MDN_1YR',\n",
       "       'EARN_COUNT_MALE_WNE_1YR', 'EARN_MALE_WNE_MDN_1YR',\n",
       "       'EARN_COUNT_NOMALE_WNE_1YR', 'EARN_NOMALE_WNE_MDN_1YR',\n",
       "       'EARN_COUNT_NE_3YR', 'EARN_NE_MDN_3YR', 'EARN_COUNT_WNE_3YR',\n",
       "       'EARN_CNTOVER150_3YR', 'EARN_COUNT_PELL_NE_3YR', 'EARN_PELL_NE_MDN_3YR',\n",
       "       'EARN_COUNT_NOPELL_NE_3YR', 'EARN_NOPELL_NE_MDN_3YR',\n",
       "       'EARN_COUNT_MALE_NE_3YR', 'EARN_MALE_NE_MDN_3YR',\n",
       "       'EARN_COUNT_NOMALE_NE_3YR', 'EARN_NOMALE_NE_MDN_3YR', 'year', 'cs'],\n",
       "      dtype='object')"
      ]
     },
     "execution_count": 122,
     "metadata": {},
     "output_type": "execute_result"
    }
   ],
   "source": [
    "all_sc.columns[-40:]"
   ]
  },
  {
   "cell_type": "code",
   "execution_count": 124,
   "metadata": {},
   "outputs": [],
   "source": [
    "col = 'IPEDSCOUNT1' # 'EARN_COUNT_PELL_NE_3YR' # \n",
    "\n",
    "sc_cs_stats = all_sc.groupby(['UNITID', 'year']).apply(lambda x: x[x['cs']][col].sum()/x[col].sum() if x[col].sum() > 0 else np.nan)\n",
    "sc_cs_stats = sc_cs_stats.reset_index().rename(columns={0: 'cs_share_aid'})\n",
    "sc_cs_stats['year'] = sc_cs_stats['year'].apply(lambda x: int('20'+str(x)[:2]))"
   ]
  },
  {
   "cell_type": "markdown",
   "metadata": {},
   "source": [
    "### SC vs. IPEDs"
   ]
  },
  {
   "cell_type": "code",
   "execution_count": 43,
   "metadata": {},
   "outputs": [],
   "source": [
    "merged = pd.merge(ipeds_cs_stats, sc_cs_stats, left_on=['UNITID', 'year'], right_on=['UNITID', 'year'])"
   ]
  },
  {
   "cell_type": "code",
   "execution_count": 104,
   "metadata": {},
   "outputs": [
    {
     "name": "stdout",
     "output_type": "stream",
     "text": [
      "11 1053\n"
     ]
    }
   ],
   "source": [
    "import numpy as np \n",
    "from scipy.stats import ttest_ind\n",
    "\n",
    "comparison          = merged.groupby('UNITID').apply(lambda x: pd.Series(ttest_ind(x['cs_share_comp'], x['cs_share_aid'])))\n",
    "comparison.columns  = ['effect', 'pval']\n",
    "comparison          = comparison.dropna()\n",
    "comparison          = comparison[~comparison['effect'].isin([np.inf, -np.inf])]\n",
    "significant         = comparison[comparison['pval']<0.05]\n",
    "print(sum(significant['effect']>0), sum(significant['effect']<0))\n",
    "sig_insts = significant[significant['effect']>0]"
   ]
  },
  {
   "cell_type": "code",
   "execution_count": 106,
   "metadata": {},
   "outputs": [
    {
     "data": {
      "text/plain": [
       "Index([101365, 132709, 133702, 137209, 196051, 207564, 210076, 230171, 235343,\n",
       "       235431, 421832],\n",
       "      dtype='int64', name='UNITID')"
      ]
     },
     "execution_count": 106,
     "metadata": {},
     "output_type": "execute_result"
    }
   ],
   "source": [
    "sig_insts.index"
   ]
  },
  {
   "cell_type": "code",
   "execution_count": 100,
   "metadata": {},
   "outputs": [],
   "source": [
    "fnames = glob(drive_url+\"IPEDS_data/hdfiles/*\")\n",
    "all_insts = []\n",
    "for fname in fnames:\n",
    "    all_insts.append(pd.read_csv(fname, encoding='cp1252'))"
   ]
  },
  {
   "cell_type": "code",
   "execution_count": 101,
   "metadata": {},
   "outputs": [],
   "source": [
    "all_insts = pd.concat(all_insts)"
   ]
  },
  {
   "cell_type": "code",
   "execution_count": 103,
   "metadata": {},
   "outputs": [
    {
     "data": {
      "text/plain": [
       "((135534, 160), (134981, 160))"
      ]
     },
     "execution_count": 103,
     "metadata": {},
     "output_type": "execute_result"
    }
   ],
   "source": [
    "all_insts.shape, all_insts.drop_duplicates().shape"
   ]
  },
  {
   "cell_type": "code",
   "execution_count": 109,
   "metadata": {},
   "outputs": [
    {
     "data": {
      "text/html": [
       "<div>\n",
       "<style scoped>\n",
       "    .dataframe tbody tr th:only-of-type {\n",
       "        vertical-align: middle;\n",
       "    }\n",
       "\n",
       "    .dataframe tbody tr th {\n",
       "        vertical-align: top;\n",
       "    }\n",
       "\n",
       "    .dataframe thead th {\n",
       "        text-align: right;\n",
       "    }\n",
       "</style>\n",
       "<table border=\"1\" class=\"dataframe\">\n",
       "  <thead>\n",
       "    <tr style=\"text-align: right;\">\n",
       "      <th></th>\n",
       "      <th>INSTNM</th>\n",
       "    </tr>\n",
       "    <tr>\n",
       "      <th>UNITID</th>\n",
       "      <th></th>\n",
       "    </tr>\n",
       "  </thead>\n",
       "  <tbody>\n",
       "    <tr>\n",
       "      <th>101365.0</th>\n",
       "      <td>Herzing University-Birmingham</td>\n",
       "    </tr>\n",
       "    <tr>\n",
       "      <th>101365.0</th>\n",
       "      <td>Herzing College</td>\n",
       "    </tr>\n",
       "    <tr>\n",
       "      <th>101365.0</th>\n",
       "      <td>HERZING COLLEGE</td>\n",
       "    </tr>\n",
       "    <tr>\n",
       "      <th>132709.0</th>\n",
       "      <td>Broward College</td>\n",
       "    </tr>\n",
       "    <tr>\n",
       "      <th>132709.0</th>\n",
       "      <td>BROWARD COMMUNITY COLLEGE</td>\n",
       "    </tr>\n",
       "    <tr>\n",
       "      <th>132709.0</th>\n",
       "      <td>Broward Community College</td>\n",
       "    </tr>\n",
       "    <tr>\n",
       "      <th>133702.0</th>\n",
       "      <td>Florida State College at Jacksonville</td>\n",
       "    </tr>\n",
       "    <tr>\n",
       "      <th>133702.0</th>\n",
       "      <td>Florida Community College at Jacksonville</td>\n",
       "    </tr>\n",
       "    <tr>\n",
       "      <th>133702.0</th>\n",
       "      <td>FLORIDA COMMUNITY COLLEGE AT JACKSONVILLE</td>\n",
       "    </tr>\n",
       "    <tr>\n",
       "      <th>137209.0</th>\n",
       "      <td>Seminole State College of Florida</td>\n",
       "    </tr>\n",
       "    <tr>\n",
       "      <th>137209.0</th>\n",
       "      <td>Seminole Community College</td>\n",
       "    </tr>\n",
       "    <tr>\n",
       "      <th>137209.0</th>\n",
       "      <td>SEMINOLE COMMUNITY COLLEGE</td>\n",
       "    </tr>\n",
       "    <tr>\n",
       "      <th>196051.0</th>\n",
       "      <td>SUNY Morrisville</td>\n",
       "    </tr>\n",
       "    <tr>\n",
       "      <th>196051.0</th>\n",
       "      <td>Morrisville State College</td>\n",
       "    </tr>\n",
       "    <tr>\n",
       "      <th>196051.0</th>\n",
       "      <td>MORRISVILLE STATE COLLEGE</td>\n",
       "    </tr>\n",
       "    <tr>\n",
       "      <th>207564.0</th>\n",
       "      <td>Oklahoma State University Institute of Technology</td>\n",
       "    </tr>\n",
       "    <tr>\n",
       "      <th>207564.0</th>\n",
       "      <td>Oklahoma State University Institute of Technol...</td>\n",
       "    </tr>\n",
       "    <tr>\n",
       "      <th>207564.0</th>\n",
       "      <td>OKLAHOMA STATE UNIVERSITY-OKMULGEE</td>\n",
       "    </tr>\n",
       "    <tr>\n",
       "      <th>207564.0</th>\n",
       "      <td>Oklahoma State University-Okmulgee</td>\n",
       "    </tr>\n",
       "    <tr>\n",
       "      <th>210076.0</th>\n",
       "      <td>Pioneer Pacific College</td>\n",
       "    </tr>\n",
       "    <tr>\n",
       "      <th>210076.0</th>\n",
       "      <td>PIONEER PACIFIC COLLEGE</td>\n",
       "    </tr>\n",
       "    <tr>\n",
       "      <th>230171.0</th>\n",
       "      <td>Dixie State University</td>\n",
       "    </tr>\n",
       "    <tr>\n",
       "      <th>230171.0</th>\n",
       "      <td>Utah Tech University</td>\n",
       "    </tr>\n",
       "    <tr>\n",
       "      <th>230171.0</th>\n",
       "      <td>Dixie State College of Utah</td>\n",
       "    </tr>\n",
       "    <tr>\n",
       "      <th>230171.0</th>\n",
       "      <td>DIXIE STATE COLLEGE OF UTAH</td>\n",
       "    </tr>\n",
       "    <tr>\n",
       "      <th>235343.0</th>\n",
       "      <td>Green River College</td>\n",
       "    </tr>\n",
       "    <tr>\n",
       "      <th>235343.0</th>\n",
       "      <td>Green River Community College</td>\n",
       "    </tr>\n",
       "    <tr>\n",
       "      <th>235343.0</th>\n",
       "      <td>GREEN RIVER COMMUNITY COLLEGE</td>\n",
       "    </tr>\n",
       "    <tr>\n",
       "      <th>235431.0</th>\n",
       "      <td>Highline College</td>\n",
       "    </tr>\n",
       "    <tr>\n",
       "      <th>235431.0</th>\n",
       "      <td>Highline Community College</td>\n",
       "    </tr>\n",
       "    <tr>\n",
       "      <th>235431.0</th>\n",
       "      <td>HIGHLINE COMMUNITY COLLEGE</td>\n",
       "    </tr>\n",
       "    <tr>\n",
       "      <th>421832.0</th>\n",
       "      <td>Living Arts College</td>\n",
       "    </tr>\n",
       "    <tr>\n",
       "      <th>421832.0</th>\n",
       "      <td>School of Communication Arts</td>\n",
       "    </tr>\n",
       "    <tr>\n",
       "      <th>421832.0</th>\n",
       "      <td>SCHOOL OF COMMUNICATION ARTS</td>\n",
       "    </tr>\n",
       "  </tbody>\n",
       "</table>\n",
       "</div>"
      ],
      "text/plain": [
       "                                                     INSTNM\n",
       "UNITID                                                     \n",
       "101365.0                      Herzing University-Birmingham\n",
       "101365.0                                    Herzing College\n",
       "101365.0                                    HERZING COLLEGE\n",
       "132709.0                                    Broward College\n",
       "132709.0                          BROWARD COMMUNITY COLLEGE\n",
       "132709.0                          Broward Community College\n",
       "133702.0              Florida State College at Jacksonville\n",
       "133702.0          Florida Community College at Jacksonville\n",
       "133702.0          FLORIDA COMMUNITY COLLEGE AT JACKSONVILLE\n",
       "137209.0                  Seminole State College of Florida\n",
       "137209.0                         Seminole Community College\n",
       "137209.0                         SEMINOLE COMMUNITY COLLEGE\n",
       "196051.0                                   SUNY Morrisville\n",
       "196051.0                          Morrisville State College\n",
       "196051.0                          MORRISVILLE STATE COLLEGE\n",
       "207564.0  Oklahoma State University Institute of Technology\n",
       "207564.0  Oklahoma State University Institute of Technol...\n",
       "207564.0                 OKLAHOMA STATE UNIVERSITY-OKMULGEE\n",
       "207564.0                 Oklahoma State University-Okmulgee\n",
       "210076.0                            Pioneer Pacific College\n",
       "210076.0                            PIONEER PACIFIC COLLEGE\n",
       "230171.0                             Dixie State University\n",
       "230171.0                               Utah Tech University\n",
       "230171.0                        Dixie State College of Utah\n",
       "230171.0                        DIXIE STATE COLLEGE OF UTAH\n",
       "235343.0                                Green River College\n",
       "235343.0                      Green River Community College\n",
       "235343.0                      GREEN RIVER COMMUNITY COLLEGE\n",
       "235431.0                                   Highline College\n",
       "235431.0                         Highline Community College\n",
       "235431.0                         HIGHLINE COMMUNITY COLLEGE\n",
       "421832.0                                Living Arts College\n",
       "421832.0                       School of Communication Arts\n",
       "421832.0                       SCHOOL OF COMMUNICATION ARTS"
      ]
     },
     "execution_count": 109,
     "metadata": {},
     "output_type": "execute_result"
    }
   ],
   "source": [
    "all_insts.set_index('UNITID')[['INSTNM']].drop_duplicates().loc[sig_insts.index]"
   ]
  }
 ],
 "metadata": {
  "kernelspec": {
   "display_name": "base",
   "language": "python",
   "name": "python3"
  },
  "language_info": {
   "codemirror_mode": {
    "name": "ipython",
    "version": 3
   },
   "file_extension": ".py",
   "mimetype": "text/x-python",
   "name": "python",
   "nbconvert_exporter": "python",
   "pygments_lexer": "ipython3",
   "version": "3.12.4"
  }
 },
 "nbformat": 4,
 "nbformat_minor": 2
}
